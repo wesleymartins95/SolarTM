{
 "cells": [
  {
   "cell_type": "markdown",
   "id": "1f4678ee",
   "metadata": {},
   "source": [
    "# 0.0 Importando bibliotecas"
   ]
  },
  {
   "cell_type": "code",
   "execution_count": 53,
   "id": "0e07102c",
   "metadata": {
    "ExecuteTime": {
     "end_time": "2022-12-14T02:29:15.649083Z",
     "start_time": "2022-12-14T02:29:15.627122Z"
    }
   },
   "outputs": [],
   "source": [
    "import pandas as pd\n",
    "import seaborn as sns\n",
    "import re\n",
    "import numpy as np\n",
    "import requests as r\n",
    "import matplotlib.pyplot as plt"
   ]
  },
  {
   "cell_type": "markdown",
   "id": "af91937d",
   "metadata": {},
   "source": [
    "## 0.1 Coleta de dados"
   ]
  },
  {
   "cell_type": "code",
   "execution_count": 2,
   "id": "791b0291",
   "metadata": {
    "ExecuteTime": {
     "end_time": "2022-12-14T02:21:24.542914Z",
     "start_time": "2022-12-14T02:21:24.469802Z"
    }
   },
   "outputs": [],
   "source": [
    "dw = pd.read_csv('empresas.csv')"
   ]
  },
  {
   "cell_type": "markdown",
   "id": "1c0b78f6",
   "metadata": {},
   "source": [
    "# 1.0 Descricao dos dados"
   ]
  },
  {
   "cell_type": "code",
   "execution_count": 3,
   "id": "7098ad10",
   "metadata": {
    "ExecuteTime": {
     "end_time": "2022-12-14T02:21:24.558145Z",
     "start_time": "2022-12-14T02:21:24.545882Z"
    }
   },
   "outputs": [
    {
     "name": "stdout",
     "output_type": "stream",
     "text": [
      "numero de linhas: 11331\n",
      "numero de colunas: 8\n"
     ]
    }
   ],
   "source": [
    "print(\"numero de linhas: {}\".format(dw.shape[0]))\n",
    "print(\"numero de colunas: {}\".format(dw.shape[1]))"
   ]
  },
  {
   "cell_type": "code",
   "execution_count": 4,
   "id": "e193f8f5",
   "metadata": {
    "ExecuteTime": {
     "end_time": "2022-12-14T02:21:24.589415Z",
     "start_time": "2022-12-14T02:21:24.561157Z"
    },
    "scrolled": false
   },
   "outputs": [
    {
     "data": {
      "text/html": [
       "<div>\n",
       "<style scoped>\n",
       "    .dataframe tbody tr th:only-of-type {\n",
       "        vertical-align: middle;\n",
       "    }\n",
       "\n",
       "    .dataframe tbody tr th {\n",
       "        vertical-align: top;\n",
       "    }\n",
       "\n",
       "    .dataframe thead th {\n",
       "        text-align: right;\n",
       "    }\n",
       "</style>\n",
       "<table border=\"1\" class=\"dataframe\">\n",
       "  <thead>\n",
       "    <tr style=\"text-align: right;\">\n",
       "      <th></th>\n",
       "      <th>id</th>\n",
       "      <th>estado_empresa</th>\n",
       "      <th>cnae_empresa</th>\n",
       "      <th>capital_empresa</th>\n",
       "      <th>processos_judiciais_empresa</th>\n",
       "      <th>idade_empresa</th>\n",
       "      <th>socios_empresa</th>\n",
       "      <th>fornecedor_empresa</th>\n",
       "    </tr>\n",
       "  </thead>\n",
       "  <tbody>\n",
       "    <tr>\n",
       "      <th>7310</th>\n",
       "      <td>7310</td>\n",
       "      <td>AM</td>\n",
       "      <td>4673700</td>\n",
       "      <td>846936</td>\n",
       "      <td>0</td>\n",
       "      <td>8</td>\n",
       "      <td>2</td>\n",
       "      <td>JJF753</td>\n",
       "    </tr>\n",
       "    <tr>\n",
       "      <th>8023</th>\n",
       "      <td>8023</td>\n",
       "      <td>RJ</td>\n",
       "      <td>4221902</td>\n",
       "      <td>665731</td>\n",
       "      <td>2</td>\n",
       "      <td>5</td>\n",
       "      <td>4</td>\n",
       "      <td>FOO456</td>\n",
       "    </tr>\n",
       "    <tr>\n",
       "      <th>1931</th>\n",
       "      <td>1931</td>\n",
       "      <td>TO</td>\n",
       "      <td>3313901</td>\n",
       "      <td>244809</td>\n",
       "      <td>0</td>\n",
       "      <td>7</td>\n",
       "      <td>3</td>\n",
       "      <td>MEL789</td>\n",
       "    </tr>\n",
       "    <tr>\n",
       "      <th>2261</th>\n",
       "      <td>2261</td>\n",
       "      <td>SE</td>\n",
       "      <td>4322301</td>\n",
       "      <td>224107</td>\n",
       "      <td>0</td>\n",
       "      <td>11</td>\n",
       "      <td>1</td>\n",
       "      <td>XPTO123</td>\n",
       "    </tr>\n",
       "    <tr>\n",
       "      <th>1344</th>\n",
       "      <td>1344</td>\n",
       "      <td>DF</td>\n",
       "      <td>4673700</td>\n",
       "      <td>133184</td>\n",
       "      <td>0</td>\n",
       "      <td>4</td>\n",
       "      <td>4</td>\n",
       "      <td>XPTO123</td>\n",
       "    </tr>\n",
       "    <tr>\n",
       "      <th>9357</th>\n",
       "      <td>9357</td>\n",
       "      <td>GO</td>\n",
       "      <td>4221903</td>\n",
       "      <td>797115</td>\n",
       "      <td>0</td>\n",
       "      <td>18</td>\n",
       "      <td>4</td>\n",
       "      <td>MEL789</td>\n",
       "    </tr>\n",
       "    <tr>\n",
       "      <th>5841</th>\n",
       "      <td>5841</td>\n",
       "      <td>TO</td>\n",
       "      <td>7112000</td>\n",
       "      <td>441748</td>\n",
       "      <td>1</td>\n",
       "      <td>17</td>\n",
       "      <td>1</td>\n",
       "      <td>XPTO123</td>\n",
       "    </tr>\n",
       "    <tr>\n",
       "      <th>3044</th>\n",
       "      <td>3044</td>\n",
       "      <td>AC</td>\n",
       "      <td>7112000</td>\n",
       "      <td>272965</td>\n",
       "      <td>0</td>\n",
       "      <td>7</td>\n",
       "      <td>4</td>\n",
       "      <td>MEL789</td>\n",
       "    </tr>\n",
       "    <tr>\n",
       "      <th>8070</th>\n",
       "      <td>8070</td>\n",
       "      <td>AP</td>\n",
       "      <td>4322302</td>\n",
       "      <td>822508</td>\n",
       "      <td>0</td>\n",
       "      <td>12</td>\n",
       "      <td>3</td>\n",
       "      <td>MEL789</td>\n",
       "    </tr>\n",
       "    <tr>\n",
       "      <th>3162</th>\n",
       "      <td>3162</td>\n",
       "      <td>PB</td>\n",
       "      <td>4221903</td>\n",
       "      <td>295958</td>\n",
       "      <td>1</td>\n",
       "      <td>19</td>\n",
       "      <td>1</td>\n",
       "      <td>MEL789</td>\n",
       "    </tr>\n",
       "  </tbody>\n",
       "</table>\n",
       "</div>"
      ],
      "text/plain": [
       "        id estado_empresa cnae_empresa  capital_empresa  \\\n",
       "7310  7310             AM      4673700           846936   \n",
       "8023  8023             RJ      4221902           665731   \n",
       "1931  1931             TO      3313901           244809   \n",
       "2261  2261             SE      4322301           224107   \n",
       "1344  1344             DF      4673700           133184   \n",
       "9357  9357             GO      4221903           797115   \n",
       "5841  5841             TO      7112000           441748   \n",
       "3044  3044             AC      7112000           272965   \n",
       "8070  8070             AP      4322302           822508   \n",
       "3162  3162             PB      4221903           295958   \n",
       "\n",
       "      processos_judiciais_empresa  idade_empresa  socios_empresa  \\\n",
       "7310                            0              8               2   \n",
       "8023                            2              5               4   \n",
       "1931                            0              7               3   \n",
       "2261                            0             11               1   \n",
       "1344                            0              4               4   \n",
       "9357                            0             18               4   \n",
       "5841                            1             17               1   \n",
       "3044                            0              7               4   \n",
       "8070                            0             12               3   \n",
       "3162                            1             19               1   \n",
       "\n",
       "     fornecedor_empresa  \n",
       "7310             JJF753  \n",
       "8023             FOO456  \n",
       "1931             MEL789  \n",
       "2261            XPTO123  \n",
       "1344            XPTO123  \n",
       "9357             MEL789  \n",
       "5841            XPTO123  \n",
       "3044             MEL789  \n",
       "8070             MEL789  \n",
       "3162             MEL789  "
      ]
     },
     "execution_count": 4,
     "metadata": {},
     "output_type": "execute_result"
    }
   ],
   "source": [
    "# consultando uma amostra dos dados\n",
    "dw.sample(10)"
   ]
  },
  {
   "cell_type": "code",
   "execution_count": 5,
   "id": "581a2f46",
   "metadata": {
    "ExecuteTime": {
     "end_time": "2022-12-14T02:21:24.621156Z",
     "start_time": "2022-12-14T02:21:24.591158Z"
    }
   },
   "outputs": [
    {
     "data": {
      "text/html": [
       "<div>\n",
       "<style scoped>\n",
       "    .dataframe tbody tr th:only-of-type {\n",
       "        vertical-align: middle;\n",
       "    }\n",
       "\n",
       "    .dataframe tbody tr th {\n",
       "        vertical-align: top;\n",
       "    }\n",
       "\n",
       "    .dataframe thead th {\n",
       "        text-align: right;\n",
       "    }\n",
       "</style>\n",
       "<table border=\"1\" class=\"dataframe\">\n",
       "  <thead>\n",
       "    <tr style=\"text-align: right;\">\n",
       "      <th></th>\n",
       "      <th>id</th>\n",
       "      <th>capital_empresa</th>\n",
       "      <th>processos_judiciais_empresa</th>\n",
       "      <th>idade_empresa</th>\n",
       "      <th>socios_empresa</th>\n",
       "    </tr>\n",
       "  </thead>\n",
       "  <tbody>\n",
       "    <tr>\n",
       "      <th>count</th>\n",
       "      <td>11331.000000</td>\n",
       "      <td>11331.000000</td>\n",
       "      <td>11331.000000</td>\n",
       "      <td>11331.000000</td>\n",
       "      <td>11331.000000</td>\n",
       "    </tr>\n",
       "    <tr>\n",
       "      <th>mean</th>\n",
       "      <td>5665.000000</td>\n",
       "      <td>508196.307916</td>\n",
       "      <td>0.982614</td>\n",
       "      <td>10.981114</td>\n",
       "      <td>2.495896</td>\n",
       "    </tr>\n",
       "    <tr>\n",
       "      <th>std</th>\n",
       "      <td>3271.122284</td>\n",
       "      <td>285426.106524</td>\n",
       "      <td>1.416196</td>\n",
       "      <td>6.124697</td>\n",
       "      <td>1.118194</td>\n",
       "    </tr>\n",
       "    <tr>\n",
       "      <th>min</th>\n",
       "      <td>0.000000</td>\n",
       "      <td>10064.000000</td>\n",
       "      <td>0.000000</td>\n",
       "      <td>1.000000</td>\n",
       "      <td>1.000000</td>\n",
       "    </tr>\n",
       "    <tr>\n",
       "      <th>25%</th>\n",
       "      <td>2832.500000</td>\n",
       "      <td>262608.500000</td>\n",
       "      <td>0.000000</td>\n",
       "      <td>6.000000</td>\n",
       "      <td>1.000000</td>\n",
       "    </tr>\n",
       "    <tr>\n",
       "      <th>50%</th>\n",
       "      <td>5665.000000</td>\n",
       "      <td>510616.000000</td>\n",
       "      <td>0.000000</td>\n",
       "      <td>11.000000</td>\n",
       "      <td>2.000000</td>\n",
       "    </tr>\n",
       "    <tr>\n",
       "      <th>75%</th>\n",
       "      <td>8497.500000</td>\n",
       "      <td>756111.000000</td>\n",
       "      <td>2.000000</td>\n",
       "      <td>16.000000</td>\n",
       "      <td>3.000000</td>\n",
       "    </tr>\n",
       "    <tr>\n",
       "      <th>max</th>\n",
       "      <td>11330.000000</td>\n",
       "      <td>999963.000000</td>\n",
       "      <td>4.000000</td>\n",
       "      <td>21.000000</td>\n",
       "      <td>4.000000</td>\n",
       "    </tr>\n",
       "  </tbody>\n",
       "</table>\n",
       "</div>"
      ],
      "text/plain": [
       "                 id  capital_empresa  processos_judiciais_empresa  \\\n",
       "count  11331.000000     11331.000000                 11331.000000   \n",
       "mean    5665.000000    508196.307916                     0.982614   \n",
       "std     3271.122284    285426.106524                     1.416196   \n",
       "min        0.000000     10064.000000                     0.000000   \n",
       "25%     2832.500000    262608.500000                     0.000000   \n",
       "50%     5665.000000    510616.000000                     0.000000   \n",
       "75%     8497.500000    756111.000000                     2.000000   \n",
       "max    11330.000000    999963.000000                     4.000000   \n",
       "\n",
       "       idade_empresa  socios_empresa  \n",
       "count   11331.000000    11331.000000  \n",
       "mean       10.981114        2.495896  \n",
       "std         6.124697        1.118194  \n",
       "min         1.000000        1.000000  \n",
       "25%         6.000000        1.000000  \n",
       "50%        11.000000        2.000000  \n",
       "75%        16.000000        3.000000  \n",
       "max        21.000000        4.000000  "
      ]
     },
     "execution_count": 5,
     "metadata": {},
     "output_type": "execute_result"
    }
   ],
   "source": [
    "# Explorando de forma geral as variaveis numericas\n",
    "# Analise descritiva\n",
    "dw.describe()"
   ]
  },
  {
   "cell_type": "code",
   "execution_count": 6,
   "id": "6a967ac3",
   "metadata": {
    "ExecuteTime": {
     "end_time": "2022-12-14T02:21:24.636741Z",
     "start_time": "2022-12-14T02:21:24.623157Z"
    }
   },
   "outputs": [
    {
     "data": {
      "text/plain": [
       "id                             0\n",
       "estado_empresa                 0\n",
       "cnae_empresa                   0\n",
       "capital_empresa                0\n",
       "processos_judiciais_empresa    0\n",
       "idade_empresa                  0\n",
       "socios_empresa                 0\n",
       "fornecedor_empresa             0\n",
       "dtype: int64"
      ]
     },
     "execution_count": 6,
     "metadata": {},
     "output_type": "execute_result"
    }
   ],
   "source": [
    "# consultando valores nulos\n",
    "dw.isnull().sum()"
   ]
  },
  {
   "cell_type": "code",
   "execution_count": 7,
   "id": "eac167bf",
   "metadata": {
    "ExecuteTime": {
     "end_time": "2022-12-14T02:21:24.652193Z",
     "start_time": "2022-12-14T02:21:24.639158Z"
    }
   },
   "outputs": [
    {
     "data": {
      "text/plain": [
       "id                              int64\n",
       "estado_empresa                 object\n",
       "cnae_empresa                   object\n",
       "capital_empresa                 int64\n",
       "processos_judiciais_empresa     int64\n",
       "idade_empresa                   int64\n",
       "socios_empresa                  int64\n",
       "fornecedor_empresa             object\n",
       "dtype: object"
      ]
     },
     "execution_count": 7,
     "metadata": {},
     "output_type": "execute_result"
    }
   ],
   "source": [
    "# consultando tipo das variaveis\n",
    "\n",
    "dw.dtypes"
   ]
  },
  {
   "cell_type": "code",
   "execution_count": 8,
   "id": "24e496de",
   "metadata": {
    "ExecuteTime": {
     "end_time": "2022-12-14T02:21:24.667155Z",
     "start_time": "2022-12-14T02:21:24.654161Z"
    }
   },
   "outputs": [
    {
     "data": {
      "text/plain": [
       "array(['3313901', '4221902', '3321000', '4221903', '2821601', '3329599',\n",
       "       '3511500', '4322301', '3511501', '4321500', '7112000', '2821602',\n",
       "       '4754703', '4673700', '4322302', '3511502', '4669901', '2731700',\n",
       "       '4742300', '4322303', '4669999', '64.62-0-00', '47.42-3-00',\n",
       "       '46.69-9-99', '26.10-8-00', '42.21-9-02', '47.89-0-99',\n",
       "       '33.13-9-99', '43.21-5-00', '27.10-4-01', '00.00-0-00',\n",
       "       '71.12-0-00', '47.51-2-01', '69.11-7-01', '35.11-5-01',\n",
       "       '25.99-3-99', '70.20-4-00', '68.10-2-01', '28.29-1-99',\n",
       "       '94.11-1-00', '82.19-9-99', '47.63-6-05', '35.13-1-00',\n",
       "       '27.90-2-99', '33.21-0-00', '77.39-0-99', '47.59-8-99',\n",
       "       '43.22-3-01', '...', '27.31-7-00', '30.32-6-00', '41.20-4-00',\n",
       "       '26.51-5-00', '25.39-0-01', '47.57-1-00', '82.11-3-00',\n",
       "       '85.99-6-99', '46.73-7-00', '66.22-3-00', '47.52-1-00'],\n",
       "      dtype=object)"
      ]
     },
     "execution_count": 8,
     "metadata": {},
     "output_type": "execute_result"
    }
   ],
   "source": [
    "# consultando variaveis unicas , sem redundancia\n",
    "\n",
    "dw['cnae_empresa'].unique() "
   ]
  },
  {
   "cell_type": "markdown",
   "id": "b85e9443",
   "metadata": {},
   "source": [
    "## 1.1 Transformando dados"
   ]
  },
  {
   "cell_type": "code",
   "execution_count": 9,
   "id": "6a497798",
   "metadata": {
    "ExecuteTime": {
     "end_time": "2022-12-14T02:21:24.683156Z",
     "start_time": "2022-12-14T02:21:24.669193Z"
    }
   },
   "outputs": [],
   "source": [
    "# removendo todos os simbolos das variaveis\n",
    "dw['cnae_empresa'] = dw['cnae_empresa'].str.replace('.','', regex = True)\n",
    "dw['cnae_empresa'] = dw['cnae_empresa'].str.replace('-','', regex = True)\n"
   ]
  },
  {
   "cell_type": "code",
   "execution_count": 10,
   "id": "3010277a",
   "metadata": {
    "ExecuteTime": {
     "end_time": "2022-12-14T02:21:24.698388Z",
     "start_time": "2022-12-14T02:21:24.687156Z"
    }
   },
   "outputs": [],
   "source": [
    "#removendo todos os espaçamentos a mais das palavras\n",
    "dw['estado_empresa'] = dw['estado_empresa'].str.strip()"
   ]
  },
  {
   "cell_type": "code",
   "execution_count": 11,
   "id": "8c86b412",
   "metadata": {
    "ExecuteTime": {
     "end_time": "2022-12-14T02:21:24.728156Z",
     "start_time": "2022-12-14T02:21:24.700159Z"
    }
   },
   "outputs": [
    {
     "data": {
      "text/html": [
       "<div>\n",
       "<style scoped>\n",
       "    .dataframe tbody tr th:only-of-type {\n",
       "        vertical-align: middle;\n",
       "    }\n",
       "\n",
       "    .dataframe tbody tr th {\n",
       "        vertical-align: top;\n",
       "    }\n",
       "\n",
       "    .dataframe thead th {\n",
       "        text-align: right;\n",
       "    }\n",
       "</style>\n",
       "<table border=\"1\" class=\"dataframe\">\n",
       "  <thead>\n",
       "    <tr style=\"text-align: right;\">\n",
       "      <th></th>\n",
       "      <th>id</th>\n",
       "      <th>estado_empresa</th>\n",
       "      <th>cnae_empresa</th>\n",
       "      <th>capital_empresa</th>\n",
       "      <th>processos_judiciais_empresa</th>\n",
       "      <th>idade_empresa</th>\n",
       "      <th>socios_empresa</th>\n",
       "      <th>fornecedor_empresa</th>\n",
       "    </tr>\n",
       "  </thead>\n",
       "  <tbody>\n",
       "    <tr>\n",
       "      <th>7025</th>\n",
       "      <td>7025</td>\n",
       "      <td>..</td>\n",
       "      <td></td>\n",
       "      <td>922416</td>\n",
       "      <td>0</td>\n",
       "      <td>10</td>\n",
       "      <td>2</td>\n",
       "      <td>JJF753</td>\n",
       "    </tr>\n",
       "  </tbody>\n",
       "</table>\n",
       "</div>"
      ],
      "text/plain": [
       "        id estado_empresa cnae_empresa  capital_empresa  \\\n",
       "7025  7025             ..                        922416   \n",
       "\n",
       "      processos_judiciais_empresa  idade_empresa  socios_empresa  \\\n",
       "7025                            0             10               2   \n",
       "\n",
       "     fornecedor_empresa  \n",
       "7025             JJF753  "
      ]
     },
     "execution_count": 11,
     "metadata": {},
     "output_type": "execute_result"
    }
   ],
   "source": [
    "# dados incompletos, não vou deletar porque é possivel conseguir os mesmos conversando com o fornecedor.\n",
    "dw[dw['estado_empresa']=='..'] "
   ]
  },
  {
   "cell_type": "code",
   "execution_count": 12,
   "id": "d114043a",
   "metadata": {
    "ExecuteTime": {
     "end_time": "2022-12-14T02:21:24.744156Z",
     "start_time": "2022-12-14T02:21:24.731355Z"
    }
   },
   "outputs": [
    {
     "data": {
      "text/plain": [
       "array(['SP', 'AM', 'DF', 'AC', 'GO', 'AP', 'AL', 'RS', 'PB', 'PR', 'PI',\n",
       "       'MG', 'ES', 'SE', 'MS', 'PE', 'SC', 'CE', 'RR', 'BA', 'MT', 'RJ',\n",
       "       'PA', 'RN', 'MA', 'RO', 'TO', 'ac', 'al', 'ap', 'am', 'ba', 'ce',\n",
       "       'df', 'es', 'go', 'ma', 'mt', 'ms', 'mg', 'pa', 'pb', 'pr', 'pe',\n",
       "       'pi', 'rj', 'rn', 'rs', 'ro', 'sc', 'sp', 'se', 'to', '..',\n",
       "       'Switzerland'], dtype=object)"
      ]
     },
     "execution_count": 12,
     "metadata": {},
     "output_type": "execute_result"
    }
   ],
   "source": [
    "dw['estado_empresa'].unique() # consultando estados unicos"
   ]
  },
  {
   "cell_type": "code",
   "execution_count": 13,
   "id": "cc2e28c3",
   "metadata": {
    "ExecuteTime": {
     "end_time": "2022-12-14T02:21:24.759377Z",
     "start_time": "2022-12-14T02:21:24.746196Z"
    }
   },
   "outputs": [],
   "source": [
    "# transformando letras minusculas em maiusculas\n",
    "dw['estado_empresa'] = dw['estado_empresa'].str.upper()"
   ]
  },
  {
   "cell_type": "code",
   "execution_count": 14,
   "id": "b92b579b",
   "metadata": {
    "ExecuteTime": {
     "end_time": "2022-12-14T02:21:24.775386Z",
     "start_time": "2022-12-14T02:21:24.761156Z"
    }
   },
   "outputs": [
    {
     "data": {
      "text/plain": [
       "array(['SP', 'AM', 'DF', 'AC', 'GO', 'AP', 'AL', 'RS', 'PB', 'PR', 'PI',\n",
       "       'MG', 'ES', 'SE', 'MS', 'PE', 'SC', 'CE', 'RR', 'BA', 'MT', 'RJ',\n",
       "       'PA', 'RN', 'MA', 'RO', 'TO', '..', 'SWITZERLAND'], dtype=object)"
      ]
     },
     "execution_count": 14,
     "metadata": {},
     "output_type": "execute_result"
    }
   ],
   "source": [
    "dw['estado_empresa'].unique()"
   ]
  },
  {
   "cell_type": "code",
   "execution_count": 15,
   "id": "40f5e8f5",
   "metadata": {
    "ExecuteTime": {
     "end_time": "2022-12-14T02:21:24.791157Z",
     "start_time": "2022-12-14T02:21:24.777191Z"
    }
   },
   "outputs": [
    {
     "data": {
      "text/html": [
       "<div>\n",
       "<style scoped>\n",
       "    .dataframe tbody tr th:only-of-type {\n",
       "        vertical-align: middle;\n",
       "    }\n",
       "\n",
       "    .dataframe tbody tr th {\n",
       "        vertical-align: top;\n",
       "    }\n",
       "\n",
       "    .dataframe thead th {\n",
       "        text-align: right;\n",
       "    }\n",
       "</style>\n",
       "<table border=\"1\" class=\"dataframe\">\n",
       "  <thead>\n",
       "    <tr style=\"text-align: right;\">\n",
       "      <th></th>\n",
       "      <th>id</th>\n",
       "      <th>estado_empresa</th>\n",
       "      <th>cnae_empresa</th>\n",
       "      <th>capital_empresa</th>\n",
       "      <th>processos_judiciais_empresa</th>\n",
       "      <th>idade_empresa</th>\n",
       "      <th>socios_empresa</th>\n",
       "      <th>fornecedor_empresa</th>\n",
       "    </tr>\n",
       "  </thead>\n",
       "  <tbody>\n",
       "    <tr>\n",
       "      <th>7025</th>\n",
       "      <td>7025</td>\n",
       "      <td>..</td>\n",
       "      <td></td>\n",
       "      <td>922416</td>\n",
       "      <td>0</td>\n",
       "      <td>10</td>\n",
       "      <td>2</td>\n",
       "      <td>JJF753</td>\n",
       "    </tr>\n",
       "  </tbody>\n",
       "</table>\n",
       "</div>"
      ],
      "text/plain": [
       "        id estado_empresa cnae_empresa  capital_empresa  \\\n",
       "7025  7025             ..                        922416   \n",
       "\n",
       "      processos_judiciais_empresa  idade_empresa  socios_empresa  \\\n",
       "7025                            0             10               2   \n",
       "\n",
       "     fornecedor_empresa  \n",
       "7025             JJF753  "
      ]
     },
     "execution_count": 15,
     "metadata": {},
     "output_type": "execute_result"
    }
   ],
   "source": [
    "# Conversar com as partes para descobrir o estado '..' e cnae '..'\n",
    "\n",
    "dw[dw['estado_empresa']=='..'] "
   ]
  },
  {
   "cell_type": "code",
   "execution_count": 16,
   "id": "83db4930",
   "metadata": {
    "ExecuteTime": {
     "end_time": "2022-12-14T02:21:24.806337Z",
     "start_time": "2022-12-14T02:21:24.793504Z"
    }
   },
   "outputs": [
    {
     "data": {
      "text/html": [
       "<div>\n",
       "<style scoped>\n",
       "    .dataframe tbody tr th:only-of-type {\n",
       "        vertical-align: middle;\n",
       "    }\n",
       "\n",
       "    .dataframe tbody tr th {\n",
       "        vertical-align: top;\n",
       "    }\n",
       "\n",
       "    .dataframe thead th {\n",
       "        text-align: right;\n",
       "    }\n",
       "</style>\n",
       "<table border=\"1\" class=\"dataframe\">\n",
       "  <thead>\n",
       "    <tr style=\"text-align: right;\">\n",
       "      <th></th>\n",
       "      <th>id</th>\n",
       "      <th>estado_empresa</th>\n",
       "      <th>cnae_empresa</th>\n",
       "      <th>capital_empresa</th>\n",
       "      <th>processos_judiciais_empresa</th>\n",
       "      <th>idade_empresa</th>\n",
       "      <th>socios_empresa</th>\n",
       "      <th>fornecedor_empresa</th>\n",
       "    </tr>\n",
       "  </thead>\n",
       "  <tbody>\n",
       "  </tbody>\n",
       "</table>\n",
       "</div>"
      ],
      "text/plain": [
       "Empty DataFrame\n",
       "Columns: [id, estado_empresa, cnae_empresa, capital_empresa, processos_judiciais_empresa, idade_empresa, socios_empresa, fornecedor_empresa]\n",
       "Index: []"
      ]
     },
     "execution_count": 16,
     "metadata": {},
     "output_type": "execute_result"
    }
   ],
   "source": [
    "# Conversar com as partes para entender se o estado_empresa 'Switzerland' está incorreto.\n",
    "dw[dw['estado_empresa']=='Switzerland'] "
   ]
  },
  {
   "cell_type": "code",
   "execution_count": 17,
   "id": "5070f087",
   "metadata": {
    "ExecuteTime": {
     "end_time": "2022-12-14T02:21:24.822158Z",
     "start_time": "2022-12-14T02:21:24.808160Z"
    }
   },
   "outputs": [],
   "source": [
    "# transformando em string\n",
    "dw['id'] = dw['id'].astype(str)"
   ]
  },
  {
   "cell_type": "markdown",
   "id": "4a67c020",
   "metadata": {},
   "source": [
    "## 1.2 Filtrando variaveis"
   ]
  },
  {
   "cell_type": "code",
   "execution_count": 18,
   "id": "b1da99b8",
   "metadata": {
    "ExecuteTime": {
     "end_time": "2022-12-14T02:21:24.837169Z",
     "start_time": "2022-12-14T02:21:24.824158Z"
    }
   },
   "outputs": [],
   "source": [
    "df = dw.copy()"
   ]
  },
  {
   "cell_type": "code",
   "execution_count": 19,
   "id": "883a08b7",
   "metadata": {
    "ExecuteTime": {
     "end_time": "2022-12-14T02:21:24.853156Z",
     "start_time": "2022-12-14T02:21:24.839156Z"
    }
   },
   "outputs": [],
   "source": [
    "# removendo as variaveis que não irei utilizar para analise.\n",
    "df = df[(df['estado_empresa']!='Switzerland') & (df['estado_empresa']!='..')]"
   ]
  },
  {
   "cell_type": "code",
   "execution_count": 20,
   "id": "c4a7d982",
   "metadata": {
    "ExecuteTime": {
     "end_time": "2022-12-14T02:21:24.869176Z",
     "start_time": "2022-12-14T02:21:24.855156Z"
    }
   },
   "outputs": [],
   "source": [
    "# Preferencia para empresas que não possuem processos.\n",
    "# segundo o IBGE as empresas quebram antes de completar 2 anos. Irei usar esse filtro.\n",
    "\n",
    "df = df[(df['processos_judiciais_empresa'] == 0) & (df['idade_empresa'] > 2)]"
   ]
  },
  {
   "cell_type": "code",
   "execution_count": 21,
   "id": "0bcd476e",
   "metadata": {
    "ExecuteTime": {
     "end_time": "2022-12-14T02:21:24.885157Z",
     "start_time": "2022-12-14T02:21:24.871158Z"
    }
   },
   "outputs": [
    {
     "data": {
      "text/plain": [
       "Index(['id', 'estado_empresa', 'cnae_empresa', 'capital_empresa',\n",
       "       'processos_judiciais_empresa', 'idade_empresa', 'socios_empresa',\n",
       "       'fornecedor_empresa'],\n",
       "      dtype='object')"
      ]
     },
     "execution_count": 21,
     "metadata": {},
     "output_type": "execute_result"
    }
   ],
   "source": [
    "# consultando colunas\n",
    "df.columns"
   ]
  },
  {
   "cell_type": "code",
   "execution_count": 22,
   "id": "d12e98dc",
   "metadata": {
    "ExecuteTime": {
     "end_time": "2022-12-14T02:21:24.901154Z",
     "start_time": "2022-12-14T02:21:24.887553Z"
    }
   },
   "outputs": [
    {
     "data": {
      "text/plain": [
       "array(['3321000', '4221903', '2821601', '3511500', '2821602', '4322301',\n",
       "       '4754703', '3329599', '4673700', '4322302', '4221902', '4669901',\n",
       "       '4321500', '3511502', '3313901', '3511501', '4669999', '4742300',\n",
       "       '2731700', '4322303', '7112000', '2610800', '4789099', '3313999',\n",
       "       '2710401', '0000000', '4751201', '6911701', '2599399', '8219999',\n",
       "       '3513100', '6462000', '7739099', '4759899', '2651500', '2539001',\n",
       "       '', '8211300', '6622300', '4757100'], dtype=object)"
      ]
     },
     "execution_count": 22,
     "metadata": {},
     "output_type": "execute_result"
    }
   ],
   "source": [
    "# Um dos objetivos da CNAE é melhorar a fiscalização do governo, \n",
    "# por meio da padronização dos códigos de atividades econômicas exercidas no país\n",
    "\n",
    "df['cnae_empresa'].unique() \n",
    "# 3511501 - a manutenção de redes de eletricidade de origem solar\n",
    "# 4322301 - a instalação, alteração, manutenção e reparo de sistemas de aquecimento(coletor solar)\n",
    "# 4321500 - Instalação e manutenção elétrica de origem solar\n"
   ]
  },
  {
   "cell_type": "markdown",
   "id": "e91a71f4",
   "metadata": {},
   "source": [
    "## 2.0 API - Dados externos"
   ]
  },
  {
   "cell_type": "code",
   "execution_count": 25,
   "id": "401a45c3",
   "metadata": {
    "ExecuteTime": {
     "end_time": "2022-12-14T02:23:30.387548Z",
     "start_time": "2022-12-14T02:22:24.022227Z"
    }
   },
   "outputs": [
    {
     "data": {
      "text/html": [
       "<div>\n",
       "<style scoped>\n",
       "    .dataframe tbody tr th:only-of-type {\n",
       "        vertical-align: middle;\n",
       "    }\n",
       "\n",
       "    .dataframe tbody tr th {\n",
       "        vertical-align: top;\n",
       "    }\n",
       "\n",
       "    .dataframe thead th {\n",
       "        text-align: right;\n",
       "    }\n",
       "</style>\n",
       "<table border=\"1\" class=\"dataframe\">\n",
       "  <thead>\n",
       "    <tr style=\"text-align: right;\">\n",
       "      <th></th>\n",
       "      <th>id</th>\n",
       "      <th>descricao</th>\n",
       "      <th>classe</th>\n",
       "      <th>atividades</th>\n",
       "      <th>observacoes</th>\n",
       "    </tr>\n",
       "  </thead>\n",
       "  <tbody>\n",
       "    <tr>\n",
       "      <th>0</th>\n",
       "      <td>4929902</td>\n",
       "      <td>TRANSPORTE RODOVIÁRIO COLETIVO DE PASSAGEIROS,...</td>\n",
       "      <td>{'id': '49299', 'descricao': 'TRANSPORTE RODOV...</td>\n",
       "      <td>[AUTOMÓVEIS COLETIVOS COM MOTORISTA (CONDUTOR)...</td>\n",
       "      <td>[Esta subclasse compreende - o transporte rodo...</td>\n",
       "    </tr>\n",
       "    <tr>\n",
       "      <th>1</th>\n",
       "      <td>4929902</td>\n",
       "      <td>TRANSPORTE RODOVIÁRIO COLETIVO DE PASSAGEIROS,...</td>\n",
       "      <td>{'id': '49299', 'descricao': 'TRANSPORTE RODOV...</td>\n",
       "      <td>[TRANSPORTE RODOVIÁRIO COLETIVO DE PASSAGEIROS...</td>\n",
       "      <td>[Esta subclasse compreende - o transporte rodo...</td>\n",
       "    </tr>\n",
       "    <tr>\n",
       "      <th>2</th>\n",
       "      <td>4929902</td>\n",
       "      <td>TRANSPORTE RODOVIÁRIO COLETIVO DE PASSAGEIROS,...</td>\n",
       "      <td>{'id': '49299', 'descricao': 'TRANSPORTE RODOV...</td>\n",
       "      <td>[VEÍCULOS RODOVIÁRIOS COLETIVOS COM MOTORISTA ...</td>\n",
       "      <td>[Esta subclasse compreende - o transporte rodo...</td>\n",
       "    </tr>\n",
       "    <tr>\n",
       "      <th>3</th>\n",
       "      <td>4929902</td>\n",
       "      <td>TRANSPORTE RODOVIÁRIO COLETIVO DE PASSAGEIROS,...</td>\n",
       "      <td>{'id': '49299', 'descricao': 'TRANSPORTE RODOV...</td>\n",
       "      <td>[ÔNIBUS COM MOTORISTA (CONDUTOR), INTERMUNICIP...</td>\n",
       "      <td>[Esta subclasse compreende - o transporte rodo...</td>\n",
       "    </tr>\n",
       "    <tr>\n",
       "      <th>4</th>\n",
       "      <td>1610204</td>\n",
       "      <td>SERRARIAS SEM DESDOBRAMENTO DE MADEIRA EM BRUT...</td>\n",
       "      <td>{'id': '16102', 'descricao': 'DESDOBRAMENTO DE...</td>\n",
       "      <td>[ASSOALHOS DE MADEIRA; PRODUÇÃO DE]</td>\n",
       "      <td>[Esta subclasse compreende - a produção de mad...</td>\n",
       "    </tr>\n",
       "  </tbody>\n",
       "</table>\n",
       "</div>"
      ],
      "text/plain": [
       "        id                                          descricao  \\\n",
       "0  4929902  TRANSPORTE RODOVIÁRIO COLETIVO DE PASSAGEIROS,...   \n",
       "1  4929902  TRANSPORTE RODOVIÁRIO COLETIVO DE PASSAGEIROS,...   \n",
       "2  4929902  TRANSPORTE RODOVIÁRIO COLETIVO DE PASSAGEIROS,...   \n",
       "3  4929902  TRANSPORTE RODOVIÁRIO COLETIVO DE PASSAGEIROS,...   \n",
       "4  1610204  SERRARIAS SEM DESDOBRAMENTO DE MADEIRA EM BRUT...   \n",
       "\n",
       "                                              classe  \\\n",
       "0  {'id': '49299', 'descricao': 'TRANSPORTE RODOV...   \n",
       "1  {'id': '49299', 'descricao': 'TRANSPORTE RODOV...   \n",
       "2  {'id': '49299', 'descricao': 'TRANSPORTE RODOV...   \n",
       "3  {'id': '49299', 'descricao': 'TRANSPORTE RODOV...   \n",
       "4  {'id': '16102', 'descricao': 'DESDOBRAMENTO DE...   \n",
       "\n",
       "                                          atividades  \\\n",
       "0  [AUTOMÓVEIS COLETIVOS COM MOTORISTA (CONDUTOR)...   \n",
       "1  [TRANSPORTE RODOVIÁRIO COLETIVO DE PASSAGEIROS...   \n",
       "2  [VEÍCULOS RODOVIÁRIOS COLETIVOS COM MOTORISTA ...   \n",
       "3  [ÔNIBUS COM MOTORISTA (CONDUTOR), INTERMUNICIP...   \n",
       "4                [ASSOALHOS DE MADEIRA; PRODUÇÃO DE]   \n",
       "\n",
       "                                         observacoes  \n",
       "0  [Esta subclasse compreende - o transporte rodo...  \n",
       "1  [Esta subclasse compreende - o transporte rodo...  \n",
       "2  [Esta subclasse compreende - o transporte rodo...  \n",
       "3  [Esta subclasse compreende - o transporte rodo...  \n",
       "4  [Esta subclasse compreende - a produção de mad...  "
      ]
     },
     "execution_count": 25,
     "metadata": {},
     "output_type": "execute_result"
    }
   ],
   "source": [
    "# Usando a API do IBGE para adicionar informações de atividade de cada CNAE\n",
    "url = \"https://servicodados.ibge.gov.br/api/v2/cnae/subclasses\"\n",
    "response = r.request('GET',url)\n",
    "ibge_raw = pd.DataFrame(response.json())\n",
    "ibge_raw.head(5)"
   ]
  },
  {
   "cell_type": "code",
   "execution_count": 26,
   "id": "7213bc5b",
   "metadata": {
    "ExecuteTime": {
     "end_time": "2022-12-14T02:23:30.402801Z",
     "start_time": "2022-12-14T02:23:30.392515Z"
    }
   },
   "outputs": [],
   "source": [
    "# Renomeando a coluna. O Id é o próprio CNAE.\n",
    "ibge_raw=ibge_raw.rename(columns={'id':'cnae_empresa'})"
   ]
  },
  {
   "cell_type": "markdown",
   "id": "b4d30a8e",
   "metadata": {},
   "source": [
    "### 2.1 Explorando e entendendo dados externos"
   ]
  },
  {
   "cell_type": "code",
   "execution_count": 27,
   "id": "bd047b17",
   "metadata": {
    "ExecuteTime": {
     "end_time": "2022-12-14T02:23:35.343019Z",
     "start_time": "2022-12-14T02:23:30.406533Z"
    }
   },
   "outputs": [],
   "source": [
    "# Fazendo a abertura do dicionario de dentro da coluna 'Classe'.\n",
    "ibge = pd.DataFrame(ibge_raw['classe'])\n",
    "\n",
    "ibge1=ibge['classe'].apply(pd.Series)"
   ]
  },
  {
   "cell_type": "code",
   "execution_count": 28,
   "id": "b6ad54bb",
   "metadata": {
    "ExecuteTime": {
     "end_time": "2022-12-14T02:23:35.375041Z",
     "start_time": "2022-12-14T02:23:35.347969Z"
    }
   },
   "outputs": [],
   "source": [
    "# conteudo do dicionario sendo transformado em dataframe, nesse caso, a Classe do CNAE contem 5 numeros.\n",
    "# Fazendo a abertura do dicionario de dentro da coluna Classe, são varios dicionarios dentro dessa coluna.\n",
    "\n",
    "ibge1= ibge1.rename(columns={'id':'classe'})\n",
    "\n",
    "ibge1['cnae_empresa'] = ibge_raw['cnae_empresa']\n",
    "\n",
    "ibge1=ibge1.reset_index(names='id')"
   ]
  },
  {
   "cell_type": "code",
   "execution_count": 29,
   "id": "ff8e20b0",
   "metadata": {
    "ExecuteTime": {
     "end_time": "2022-12-14T02:23:35.406964Z",
     "start_time": "2022-12-14T02:23:35.378969Z"
    }
   },
   "outputs": [
    {
     "data": {
      "text/html": [
       "<div>\n",
       "<style scoped>\n",
       "    .dataframe tbody tr th:only-of-type {\n",
       "        vertical-align: middle;\n",
       "    }\n",
       "\n",
       "    .dataframe tbody tr th {\n",
       "        vertical-align: top;\n",
       "    }\n",
       "\n",
       "    .dataframe thead th {\n",
       "        text-align: right;\n",
       "    }\n",
       "</style>\n",
       "<table border=\"1\" class=\"dataframe\">\n",
       "  <thead>\n",
       "    <tr style=\"text-align: right;\">\n",
       "      <th></th>\n",
       "      <th>id</th>\n",
       "      <th>classe</th>\n",
       "      <th>descricao</th>\n",
       "      <th>grupo</th>\n",
       "      <th>observacoes</th>\n",
       "      <th>cnae_empresa</th>\n",
       "    </tr>\n",
       "  </thead>\n",
       "  <tbody>\n",
       "    <tr>\n",
       "      <th>0</th>\n",
       "      <td>0</td>\n",
       "      <td>49299</td>\n",
       "      <td>TRANSPORTE RODOVIÁRIO COLETIVO DE PASSAGEIROS,...</td>\n",
       "      <td>{'id': '492', 'descricao': 'TRANSPORTE RODOVIÁ...</td>\n",
       "      <td>[Esta classe compreende - o transporte rodoviá...</td>\n",
       "      <td>4929902</td>\n",
       "    </tr>\n",
       "    <tr>\n",
       "      <th>1</th>\n",
       "      <td>1</td>\n",
       "      <td>49299</td>\n",
       "      <td>TRANSPORTE RODOVIÁRIO COLETIVO DE PASSAGEIROS,...</td>\n",
       "      <td>{'id': '492', 'descricao': 'TRANSPORTE RODOVIÁ...</td>\n",
       "      <td>[Esta classe compreende - o transporte rodoviá...</td>\n",
       "      <td>4929902</td>\n",
       "    </tr>\n",
       "    <tr>\n",
       "      <th>2</th>\n",
       "      <td>2</td>\n",
       "      <td>49299</td>\n",
       "      <td>TRANSPORTE RODOVIÁRIO COLETIVO DE PASSAGEIROS,...</td>\n",
       "      <td>{'id': '492', 'descricao': 'TRANSPORTE RODOVIÁ...</td>\n",
       "      <td>[Esta classe compreende - o transporte rodoviá...</td>\n",
       "      <td>4929902</td>\n",
       "    </tr>\n",
       "    <tr>\n",
       "      <th>3</th>\n",
       "      <td>3</td>\n",
       "      <td>49299</td>\n",
       "      <td>TRANSPORTE RODOVIÁRIO COLETIVO DE PASSAGEIROS,...</td>\n",
       "      <td>{'id': '492', 'descricao': 'TRANSPORTE RODOVIÁ...</td>\n",
       "      <td>[Esta classe compreende - o transporte rodoviá...</td>\n",
       "      <td>4929902</td>\n",
       "    </tr>\n",
       "    <tr>\n",
       "      <th>4</th>\n",
       "      <td>4</td>\n",
       "      <td>16102</td>\n",
       "      <td>DESDOBRAMENTO DE MADEIRA</td>\n",
       "      <td>{'id': '161', 'descricao': 'DESDOBRAMENTO DE M...</td>\n",
       "      <td>[Esta classe compreende - a fabricação de made...</td>\n",
       "      <td>1610204</td>\n",
       "    </tr>\n",
       "  </tbody>\n",
       "</table>\n",
       "</div>"
      ],
      "text/plain": [
       "   id classe                                          descricao  \\\n",
       "0   0  49299  TRANSPORTE RODOVIÁRIO COLETIVO DE PASSAGEIROS,...   \n",
       "1   1  49299  TRANSPORTE RODOVIÁRIO COLETIVO DE PASSAGEIROS,...   \n",
       "2   2  49299  TRANSPORTE RODOVIÁRIO COLETIVO DE PASSAGEIROS,...   \n",
       "3   3  49299  TRANSPORTE RODOVIÁRIO COLETIVO DE PASSAGEIROS,...   \n",
       "4   4  16102                           DESDOBRAMENTO DE MADEIRA   \n",
       "\n",
       "                                               grupo  \\\n",
       "0  {'id': '492', 'descricao': 'TRANSPORTE RODOVIÁ...   \n",
       "1  {'id': '492', 'descricao': 'TRANSPORTE RODOVIÁ...   \n",
       "2  {'id': '492', 'descricao': 'TRANSPORTE RODOVIÁ...   \n",
       "3  {'id': '492', 'descricao': 'TRANSPORTE RODOVIÁ...   \n",
       "4  {'id': '161', 'descricao': 'DESDOBRAMENTO DE M...   \n",
       "\n",
       "                                         observacoes cnae_empresa  \n",
       "0  [Esta classe compreende - o transporte rodoviá...      4929902  \n",
       "1  [Esta classe compreende - o transporte rodoviá...      4929902  \n",
       "2  [Esta classe compreende - o transporte rodoviá...      4929902  \n",
       "3  [Esta classe compreende - o transporte rodoviá...      4929902  \n",
       "4  [Esta classe compreende - a fabricação de made...      1610204  "
      ]
     },
     "execution_count": 29,
     "metadata": {},
     "output_type": "execute_result"
    }
   ],
   "source": [
    "ibge1.head()"
   ]
  },
  {
   "cell_type": "markdown",
   "id": "2fc48604",
   "metadata": {},
   "source": [
    "### 2.2 Limpando e Transformando para encontrar a descrição dos CNAE"
   ]
  },
  {
   "cell_type": "code",
   "execution_count": 30,
   "id": "0fca6e69",
   "metadata": {
    "ExecuteTime": {
     "end_time": "2022-12-14T02:23:40.247913Z",
     "start_time": "2022-12-14T02:23:35.408932Z"
    }
   },
   "outputs": [
    {
     "data": {
      "text/html": [
       "<div>\n",
       "<style scoped>\n",
       "    .dataframe tbody tr th:only-of-type {\n",
       "        vertical-align: middle;\n",
       "    }\n",
       "\n",
       "    .dataframe tbody tr th {\n",
       "        vertical-align: top;\n",
       "    }\n",
       "\n",
       "    .dataframe thead th {\n",
       "        text-align: right;\n",
       "    }\n",
       "</style>\n",
       "<table border=\"1\" class=\"dataframe\">\n",
       "  <thead>\n",
       "    <tr style=\"text-align: right;\">\n",
       "      <th></th>\n",
       "      <th>id</th>\n",
       "      <th>grupo</th>\n",
       "      <th>descricao</th>\n",
       "      <th>divisao</th>\n",
       "      <th>cnae_empresa</th>\n",
       "    </tr>\n",
       "  </thead>\n",
       "  <tbody>\n",
       "    <tr>\n",
       "      <th>0</th>\n",
       "      <td>0</td>\n",
       "      <td>492</td>\n",
       "      <td>TRANSPORTE RODOVIÁRIO DE PASSAGEIROS</td>\n",
       "      <td>{'id': '49', 'descricao': 'TRANSPORTE TERRESTR...</td>\n",
       "      <td>4929902</td>\n",
       "    </tr>\n",
       "    <tr>\n",
       "      <th>1</th>\n",
       "      <td>1</td>\n",
       "      <td>492</td>\n",
       "      <td>TRANSPORTE RODOVIÁRIO DE PASSAGEIROS</td>\n",
       "      <td>{'id': '49', 'descricao': 'TRANSPORTE TERRESTR...</td>\n",
       "      <td>4929902</td>\n",
       "    </tr>\n",
       "  </tbody>\n",
       "</table>\n",
       "</div>"
      ],
      "text/plain": [
       "   id grupo                             descricao  \\\n",
       "0   0   492  TRANSPORTE RODOVIÁRIO DE PASSAGEIROS   \n",
       "1   1   492  TRANSPORTE RODOVIÁRIO DE PASSAGEIROS   \n",
       "\n",
       "                                             divisao cnae_empresa  \n",
       "0  {'id': '49', 'descricao': 'TRANSPORTE TERRESTR...      4929902  \n",
       "1  {'id': '49', 'descricao': 'TRANSPORTE TERRESTR...      4929902  "
      ]
     },
     "execution_count": 30,
     "metadata": {},
     "output_type": "execute_result"
    }
   ],
   "source": [
    "# removendo o dicionario 'grupo' de dentro da coluna classe e tranformando em dataframe.\n",
    "ibge2 =ibge1['grupo'].apply(pd.Series)\n",
    "ibge2= ibge2.rename(columns={'id':'grupo'})\n",
    "ibge2['cnae_empresa'] = ibge_raw['cnae_empresa']\n",
    "ibge2=ibge2.reset_index(names='id')\n",
    "ibge2.head(2)"
   ]
  },
  {
   "cell_type": "code",
   "execution_count": 31,
   "id": "0a6f442b",
   "metadata": {
    "ExecuteTime": {
     "end_time": "2022-12-14T02:23:45.032179Z",
     "start_time": "2022-12-14T02:23:40.250828Z"
    }
   },
   "outputs": [
    {
     "data": {
      "text/html": [
       "<div>\n",
       "<style scoped>\n",
       "    .dataframe tbody tr th:only-of-type {\n",
       "        vertical-align: middle;\n",
       "    }\n",
       "\n",
       "    .dataframe tbody tr th {\n",
       "        vertical-align: top;\n",
       "    }\n",
       "\n",
       "    .dataframe thead th {\n",
       "        text-align: right;\n",
       "    }\n",
       "</style>\n",
       "<table border=\"1\" class=\"dataframe\">\n",
       "  <thead>\n",
       "    <tr style=\"text-align: right;\">\n",
       "      <th></th>\n",
       "      <th>id</th>\n",
       "      <th>divisao</th>\n",
       "      <th>descricao</th>\n",
       "      <th>secao</th>\n",
       "      <th>cnae_empresa</th>\n",
       "    </tr>\n",
       "  </thead>\n",
       "  <tbody>\n",
       "    <tr>\n",
       "      <th>0</th>\n",
       "      <td>0</td>\n",
       "      <td>49</td>\n",
       "      <td>TRANSPORTE TERRESTRE</td>\n",
       "      <td>{'id': 'H', 'descricao': 'TRANSPORTE, ARMAZENA...</td>\n",
       "      <td>4929902</td>\n",
       "    </tr>\n",
       "    <tr>\n",
       "      <th>1</th>\n",
       "      <td>1</td>\n",
       "      <td>49</td>\n",
       "      <td>TRANSPORTE TERRESTRE</td>\n",
       "      <td>{'id': 'H', 'descricao': 'TRANSPORTE, ARMAZENA...</td>\n",
       "      <td>4929902</td>\n",
       "    </tr>\n",
       "  </tbody>\n",
       "</table>\n",
       "</div>"
      ],
      "text/plain": [
       "   id divisao             descricao  \\\n",
       "0   0      49  TRANSPORTE TERRESTRE   \n",
       "1   1      49  TRANSPORTE TERRESTRE   \n",
       "\n",
       "                                               secao cnae_empresa  \n",
       "0  {'id': 'H', 'descricao': 'TRANSPORTE, ARMAZENA...      4929902  \n",
       "1  {'id': 'H', 'descricao': 'TRANSPORTE, ARMAZENA...      4929902  "
      ]
     },
     "execution_count": 31,
     "metadata": {},
     "output_type": "execute_result"
    }
   ],
   "source": [
    "# removendo o dicionario 'divisao' de dentro da coluna classe e tranformando em dataframe.\n",
    "ibge3 =ibge2['divisao'].apply(pd.Series)\n",
    "ibge3= ibge3.rename(columns={'id':'divisao'})\n",
    "ibge3['id'] = ibge_raw['cnae_empresa']\n",
    "ibge3=ibge3.rename(columns={'id':'cnae_empresa'})\n",
    "ibge3=ibge3.reset_index(names='id')\n",
    "ibge3.head(2)"
   ]
  },
  {
   "cell_type": "code",
   "execution_count": 32,
   "id": "94a7ea50",
   "metadata": {
    "ExecuteTime": {
     "end_time": "2022-12-14T02:24:33.122876Z",
     "start_time": "2022-12-14T02:24:28.287358Z"
    }
   },
   "outputs": [
    {
     "data": {
      "text/html": [
       "<div>\n",
       "<style scoped>\n",
       "    .dataframe tbody tr th:only-of-type {\n",
       "        vertical-align: middle;\n",
       "    }\n",
       "\n",
       "    .dataframe tbody tr th {\n",
       "        vertical-align: top;\n",
       "    }\n",
       "\n",
       "    .dataframe thead th {\n",
       "        text-align: right;\n",
       "    }\n",
       "</style>\n",
       "<table border=\"1\" class=\"dataframe\">\n",
       "  <thead>\n",
       "    <tr style=\"text-align: right;\">\n",
       "      <th></th>\n",
       "      <th>id</th>\n",
       "      <th>secao</th>\n",
       "      <th>descricao</th>\n",
       "    </tr>\n",
       "  </thead>\n",
       "  <tbody>\n",
       "    <tr>\n",
       "      <th>0</th>\n",
       "      <td>0</td>\n",
       "      <td>H</td>\n",
       "      <td>TRANSPORTE, ARMAZENAGEM E CORREIO</td>\n",
       "    </tr>\n",
       "    <tr>\n",
       "      <th>1</th>\n",
       "      <td>1</td>\n",
       "      <td>H</td>\n",
       "      <td>TRANSPORTE, ARMAZENAGEM E CORREIO</td>\n",
       "    </tr>\n",
       "    <tr>\n",
       "      <th>2</th>\n",
       "      <td>2</td>\n",
       "      <td>H</td>\n",
       "      <td>TRANSPORTE, ARMAZENAGEM E CORREIO</td>\n",
       "    </tr>\n",
       "    <tr>\n",
       "      <th>3</th>\n",
       "      <td>3</td>\n",
       "      <td>H</td>\n",
       "      <td>TRANSPORTE, ARMAZENAGEM E CORREIO</td>\n",
       "    </tr>\n",
       "    <tr>\n",
       "      <th>4</th>\n",
       "      <td>4</td>\n",
       "      <td>C</td>\n",
       "      <td>INDÚSTRIAS DE TRANSFORMAÇÃO</td>\n",
       "    </tr>\n",
       "    <tr>\n",
       "      <th>...</th>\n",
       "      <td>...</td>\n",
       "      <td>...</td>\n",
       "      <td>...</td>\n",
       "    </tr>\n",
       "    <tr>\n",
       "      <th>16835</th>\n",
       "      <td>16835</td>\n",
       "      <td>Q</td>\n",
       "      <td>SAÚDE HUMANA E SERVIÇOS SOCIAIS</td>\n",
       "    </tr>\n",
       "    <tr>\n",
       "      <th>16836</th>\n",
       "      <td>16836</td>\n",
       "      <td>Q</td>\n",
       "      <td>SAÚDE HUMANA E SERVIÇOS SOCIAIS</td>\n",
       "    </tr>\n",
       "    <tr>\n",
       "      <th>16837</th>\n",
       "      <td>16837</td>\n",
       "      <td>Q</td>\n",
       "      <td>SAÚDE HUMANA E SERVIÇOS SOCIAIS</td>\n",
       "    </tr>\n",
       "    <tr>\n",
       "      <th>16838</th>\n",
       "      <td>16838</td>\n",
       "      <td>G</td>\n",
       "      <td>COMÉRCIO; REPARAÇÃO DE VEÍCULOS AUTOMOTORES E ...</td>\n",
       "    </tr>\n",
       "    <tr>\n",
       "      <th>16839</th>\n",
       "      <td>16839</td>\n",
       "      <td>G</td>\n",
       "      <td>COMÉRCIO; REPARAÇÃO DE VEÍCULOS AUTOMOTORES E ...</td>\n",
       "    </tr>\n",
       "  </tbody>\n",
       "</table>\n",
       "<p>16840 rows × 3 columns</p>\n",
       "</div>"
      ],
      "text/plain": [
       "          id secao                                          descricao\n",
       "0          0     H                  TRANSPORTE, ARMAZENAGEM E CORREIO\n",
       "1          1     H                  TRANSPORTE, ARMAZENAGEM E CORREIO\n",
       "2          2     H                  TRANSPORTE, ARMAZENAGEM E CORREIO\n",
       "3          3     H                  TRANSPORTE, ARMAZENAGEM E CORREIO\n",
       "4          4     C                        INDÚSTRIAS DE TRANSFORMAÇÃO\n",
       "...      ...   ...                                                ...\n",
       "16835  16835     Q                    SAÚDE HUMANA E SERVIÇOS SOCIAIS\n",
       "16836  16836     Q                    SAÚDE HUMANA E SERVIÇOS SOCIAIS\n",
       "16837  16837     Q                    SAÚDE HUMANA E SERVIÇOS SOCIAIS\n",
       "16838  16838     G  COMÉRCIO; REPARAÇÃO DE VEÍCULOS AUTOMOTORES E ...\n",
       "16839  16839     G  COMÉRCIO; REPARAÇÃO DE VEÍCULOS AUTOMOTORES E ...\n",
       "\n",
       "[16840 rows x 3 columns]"
      ]
     },
     "execution_count": 32,
     "metadata": {},
     "output_type": "execute_result"
    }
   ],
   "source": [
    "# removendo o dicionario secao de dentro da coluna classe e tranformando em dataframe.\n",
    "\n",
    "ibge4 =ibge3['secao'].apply(pd.Series)\n",
    "ibge4= ibge4.rename(columns={'id':'secao'})\n",
    "ibge4=ibge4.reset_index(names='id')\n",
    "ibge4"
   ]
  },
  {
   "cell_type": "code",
   "execution_count": 33,
   "id": "38dd1c40",
   "metadata": {
    "ExecuteTime": {
     "end_time": "2022-12-14T02:24:33.248944Z",
     "start_time": "2022-12-14T02:24:33.126194Z"
    }
   },
   "outputs": [],
   "source": [
    "# fazendo a união dos dataframes \n",
    "ibge_merge = df.merge(ibge_raw, on=['cnae_empresa'], how='left',indicator=True)\n",
    "\n",
    "#filtrando apenas os dados q são de ambos os datasets\n",
    "filtro = ibge_merge['_merge'] == 'both'\n",
    "ibge_merge = ibge_merge[filtro]\n"
   ]
  },
  {
   "cell_type": "code",
   "execution_count": 34,
   "id": "73dedd14",
   "metadata": {
    "ExecuteTime": {
     "end_time": "2022-12-14T02:24:33.264101Z",
     "start_time": "2022-12-14T02:24:33.252813Z"
    }
   },
   "outputs": [],
   "source": [
    "#criando uma cópia dos dados\n",
    "ibge = ibge_merge.copy()"
   ]
  },
  {
   "cell_type": "code",
   "execution_count": 35,
   "id": "c4e38380",
   "metadata": {
    "ExecuteTime": {
     "end_time": "2022-12-14T02:24:33.326248Z",
     "start_time": "2022-12-14T02:24:33.267408Z"
    }
   },
   "outputs": [],
   "source": [
    "# concatenando as partes do CNAE que eram varios dicionarios.\n",
    "ibge = pd.concat([ibge_merge,ibge4,ibge3,ibge2,ibge1])\n",
    "\n",
    "# removendo colunas que não irei utilizar\n",
    "cols_drop = ['_merge','secao','divisao','grupo','classe','observacoes','processos_judiciais_empresa','id','atividades']\n",
    "ibge = ibge.drop(cols_drop,axis=1)"
   ]
  },
  {
   "cell_type": "markdown",
   "id": "4b10ff8d",
   "metadata": {
    "ExecuteTime": {
     "end_time": "2022-12-09T19:39:38.028064Z",
     "start_time": "2022-12-09T19:39:37.995780Z"
    }
   },
   "source": [
    "\n",
    "- 3511501 : a manutenção de redes de eletricidade de origem solar\n",
    "- 4322301 : a instalação, alteração, manutenção e reparo de sistemas de aquecimento(coletor solar)\n",
    "- 4321500 : Instalação e manutenção elétrica de origem solar"
   ]
  },
  {
   "cell_type": "code",
   "execution_count": 36,
   "id": "19024fc5",
   "metadata": {
    "ExecuteTime": {
     "end_time": "2022-12-14T02:24:33.403075Z",
     "start_time": "2022-12-14T02:24:33.329811Z"
    }
   },
   "outputs": [],
   "source": [
    "# optei filtrar por essas duas cnae porque o time de negocio pediu parceiros que fazem instalação e não apenas manutenção.\n",
    "ibge= ibge[(ibge['cnae_empresa'] == '4322301') | (ibge['cnae_empresa'] == '4321500')]"
   ]
  },
  {
   "cell_type": "code",
   "execution_count": 37,
   "id": "6b1c23cc",
   "metadata": {
    "ExecuteTime": {
     "end_time": "2022-12-14T02:24:33.467253Z",
     "start_time": "2022-12-14T02:24:33.406122Z"
    }
   },
   "outputs": [],
   "source": [
    "# consultando valores nulos\n",
    "ibge.isnull().sum()\n",
    "\n",
    "ibge.dropna(axis=0,inplace=True)"
   ]
  },
  {
   "cell_type": "code",
   "execution_count": 50,
   "id": "3d0fcc7a",
   "metadata": {
    "ExecuteTime": {
     "end_time": "2022-12-14T02:27:42.954842Z",
     "start_time": "2022-12-14T02:27:42.948809Z"
    },
    "code_folding": []
   },
   "outputs": [],
   "source": [
    "# removendo os colchetes e numeros do dataframe com regex\n",
    "#text = ibge['atividades']\n",
    "#ibge['atividades'] = re.sub(r\"[\\([{})\\]]\", \"\",str(text)) # remove esse tipo de simbolos\n",
    "#ibge['atividades'] = re.sub(r'\\b\\d+(?:\\.\\d+)?\\s+', '', str(text)) #remove numeros\n"
   ]
  },
  {
   "cell_type": "code",
   "execution_count": 40,
   "id": "e43349a5",
   "metadata": {
    "ExecuteTime": {
     "end_time": "2022-12-14T02:25:58.925580Z",
     "start_time": "2022-12-14T02:25:58.904986Z"
    }
   },
   "outputs": [
    {
     "data": {
      "text/html": [
       "<div>\n",
       "<style scoped>\n",
       "    .dataframe tbody tr th:only-of-type {\n",
       "        vertical-align: middle;\n",
       "    }\n",
       "\n",
       "    .dataframe tbody tr th {\n",
       "        vertical-align: top;\n",
       "    }\n",
       "\n",
       "    .dataframe thead th {\n",
       "        text-align: right;\n",
       "    }\n",
       "</style>\n",
       "<table border=\"1\" class=\"dataframe\">\n",
       "  <thead>\n",
       "    <tr style=\"text-align: right;\">\n",
       "      <th></th>\n",
       "      <th>estado_empresa</th>\n",
       "      <th>cnae_empresa</th>\n",
       "      <th>capital_empresa</th>\n",
       "      <th>idade_empresa</th>\n",
       "      <th>socios_empresa</th>\n",
       "      <th>fornecedor_empresa</th>\n",
       "      <th>descricao</th>\n",
       "    </tr>\n",
       "  </thead>\n",
       "  <tbody>\n",
       "    <tr>\n",
       "      <th>54753</th>\n",
       "      <td>SE</td>\n",
       "      <td>4321500</td>\n",
       "      <td>139105.0</td>\n",
       "      <td>12.0</td>\n",
       "      <td>1.0</td>\n",
       "      <td>FOO456</td>\n",
       "      <td>INSTALAÇÃO E MANUTENÇÃO ELÉTRICA</td>\n",
       "    </tr>\n",
       "    <tr>\n",
       "      <th>44569</th>\n",
       "      <td>MS</td>\n",
       "      <td>4321500</td>\n",
       "      <td>66615.0</td>\n",
       "      <td>14.0</td>\n",
       "      <td>3.0</td>\n",
       "      <td>FOO456</td>\n",
       "      <td>INSTALAÇÃO E MANUTENÇÃO ELÉTRICA</td>\n",
       "    </tr>\n",
       "    <tr>\n",
       "      <th>66801</th>\n",
       "      <td>RN</td>\n",
       "      <td>4322301</td>\n",
       "      <td>646547.0</td>\n",
       "      <td>16.0</td>\n",
       "      <td>4.0</td>\n",
       "      <td>JJF753</td>\n",
       "      <td>INSTALAÇÕES HIDRÁULICAS, SANITÁRIAS E DE GÁS</td>\n",
       "    </tr>\n",
       "    <tr>\n",
       "      <th>21304</th>\n",
       "      <td>AL</td>\n",
       "      <td>4321500</td>\n",
       "      <td>948701.0</td>\n",
       "      <td>16.0</td>\n",
       "      <td>3.0</td>\n",
       "      <td>CABL951</td>\n",
       "      <td>INSTALAÇÃO E MANUTENÇÃO ELÉTRICA</td>\n",
       "    </tr>\n",
       "    <tr>\n",
       "      <th>85438</th>\n",
       "      <td>AP</td>\n",
       "      <td>4321500</td>\n",
       "      <td>146618.0</td>\n",
       "      <td>12.0</td>\n",
       "      <td>1.0</td>\n",
       "      <td>XPTO123</td>\n",
       "      <td>INSTALAÇÃO E MANUTENÇÃO ELÉTRICA</td>\n",
       "    </tr>\n",
       "    <tr>\n",
       "      <th>24330</th>\n",
       "      <td>TO</td>\n",
       "      <td>4321500</td>\n",
       "      <td>427807.0</td>\n",
       "      <td>12.0</td>\n",
       "      <td>1.0</td>\n",
       "      <td>JJF753</td>\n",
       "      <td>INSTALAÇÃO E MANUTENÇÃO ELÉTRICA</td>\n",
       "    </tr>\n",
       "    <tr>\n",
       "      <th>49453</th>\n",
       "      <td>PR</td>\n",
       "      <td>4321500</td>\n",
       "      <td>341220.0</td>\n",
       "      <td>15.0</td>\n",
       "      <td>1.0</td>\n",
       "      <td>JJF753</td>\n",
       "      <td>INSTALAÇÃO E MANUTENÇÃO ELÉTRICA</td>\n",
       "    </tr>\n",
       "    <tr>\n",
       "      <th>53501</th>\n",
       "      <td>RJ</td>\n",
       "      <td>4321500</td>\n",
       "      <td>34201.0</td>\n",
       "      <td>19.0</td>\n",
       "      <td>3.0</td>\n",
       "      <td>XPTO123</td>\n",
       "      <td>INSTALAÇÃO E MANUTENÇÃO ELÉTRICA</td>\n",
       "    </tr>\n",
       "    <tr>\n",
       "      <th>1322</th>\n",
       "      <td>GO</td>\n",
       "      <td>4321500</td>\n",
       "      <td>669886.0</td>\n",
       "      <td>11.0</td>\n",
       "      <td>1.0</td>\n",
       "      <td>XPTO123</td>\n",
       "      <td>INSTALAÇÃO E MANUTENÇÃO ELÉTRICA</td>\n",
       "    </tr>\n",
       "    <tr>\n",
       "      <th>7454</th>\n",
       "      <td>ES</td>\n",
       "      <td>4321500</td>\n",
       "      <td>38588.0</td>\n",
       "      <td>20.0</td>\n",
       "      <td>3.0</td>\n",
       "      <td>XPTO123</td>\n",
       "      <td>INSTALAÇÃO E MANUTENÇÃO ELÉTRICA</td>\n",
       "    </tr>\n",
       "  </tbody>\n",
       "</table>\n",
       "</div>"
      ],
      "text/plain": [
       "      estado_empresa cnae_empresa  capital_empresa  idade_empresa  \\\n",
       "54753             SE      4321500         139105.0           12.0   \n",
       "44569             MS      4321500          66615.0           14.0   \n",
       "66801             RN      4322301         646547.0           16.0   \n",
       "21304             AL      4321500         948701.0           16.0   \n",
       "85438             AP      4321500         146618.0           12.0   \n",
       "24330             TO      4321500         427807.0           12.0   \n",
       "49453             PR      4321500         341220.0           15.0   \n",
       "53501             RJ      4321500          34201.0           19.0   \n",
       "1322              GO      4321500         669886.0           11.0   \n",
       "7454              ES      4321500          38588.0           20.0   \n",
       "\n",
       "       socios_empresa fornecedor_empresa  \\\n",
       "54753             1.0             FOO456   \n",
       "44569             3.0             FOO456   \n",
       "66801             4.0             JJF753   \n",
       "21304             3.0            CABL951   \n",
       "85438             1.0            XPTO123   \n",
       "24330             1.0             JJF753   \n",
       "49453             1.0             JJF753   \n",
       "53501             3.0            XPTO123   \n",
       "1322              1.0            XPTO123   \n",
       "7454              3.0            XPTO123   \n",
       "\n",
       "                                          descricao  \n",
       "54753              INSTALAÇÃO E MANUTENÇÃO ELÉTRICA  \n",
       "44569              INSTALAÇÃO E MANUTENÇÃO ELÉTRICA  \n",
       "66801  INSTALAÇÕES HIDRÁULICAS, SANITÁRIAS E DE GÁS  \n",
       "21304              INSTALAÇÃO E MANUTENÇÃO ELÉTRICA  \n",
       "85438              INSTALAÇÃO E MANUTENÇÃO ELÉTRICA  \n",
       "24330              INSTALAÇÃO E MANUTENÇÃO ELÉTRICA  \n",
       "49453              INSTALAÇÃO E MANUTENÇÃO ELÉTRICA  \n",
       "53501              INSTALAÇÃO E MANUTENÇÃO ELÉTRICA  \n",
       "1322               INSTALAÇÃO E MANUTENÇÃO ELÉTRICA  \n",
       "7454               INSTALAÇÃO E MANUTENÇÃO ELÉTRICA  "
      ]
     },
     "execution_count": 40,
     "metadata": {},
     "output_type": "execute_result"
    }
   ],
   "source": [
    "ibge.sample(10)\n"
   ]
  },
  {
   "cell_type": "code",
   "execution_count": 41,
   "id": "39c3aeb7",
   "metadata": {
    "ExecuteTime": {
     "end_time": "2022-12-14T02:26:02.294604Z",
     "start_time": "2022-12-14T02:26:02.277419Z"
    }
   },
   "outputs": [],
   "source": [
    "# definindo a escolha da empresa a partir da media de valor de capital.\n",
    "ibge['capital_empresa'].mean()\n",
    "\n",
    "filtro = ibge['capital_empresa'] >= 508529\n",
    "ibge= ibge[filtro]\n"
   ]
  },
  {
   "cell_type": "code",
   "execution_count": 42,
   "id": "e44cf87e",
   "metadata": {
    "ExecuteTime": {
     "end_time": "2022-12-14T02:26:03.572951Z",
     "start_time": "2022-12-14T02:26:03.552904Z"
    }
   },
   "outputs": [],
   "source": [
    "# removendo dados duplicados\n",
    "ibge = ibge.drop_duplicates()\n"
   ]
  },
  {
   "cell_type": "code",
   "execution_count": 43,
   "id": "11057714",
   "metadata": {
    "ExecuteTime": {
     "end_time": "2022-12-14T02:26:06.247873Z",
     "start_time": "2022-12-14T02:26:06.232640Z"
    }
   },
   "outputs": [],
   "source": [
    "\n",
    "# salvando dataset limpo \n",
    "ibge.to_csv('dataset_clean_empresas.csv', index=False)\n"
   ]
  },
  {
   "cell_type": "markdown",
   "id": "32bfea95",
   "metadata": {},
   "source": [
    "## Novas Features"
   ]
  },
  {
   "cell_type": "code",
   "execution_count": 44,
   "id": "2284d9fb",
   "metadata": {
    "ExecuteTime": {
     "end_time": "2022-12-14T02:26:13.177379Z",
     "start_time": "2022-12-14T02:26:13.154752Z"
    }
   },
   "outputs": [],
   "source": [
    "ibge['regiao'] =  ibge['estado_empresa'].apply(lambda x: 'nordeste' if x == 'MA' \n",
    "                                                    else 'nordeste' if x == 'PI' \n",
    "                                                    else 'nordeste' if x == 'CE'\n",
    "                                                    else 'nordeste' if x == 'RN' \n",
    "                                                    else 'nordeste' if x == 'PE'\n",
    "                                                    else 'nordeste' if x == 'PB'\n",
    "                                                    else 'nordeste' if x == 'SE'\n",
    "                                                    else 'nordeste' if x == 'AL'\n",
    "                                                    else 'nordeste' if x == 'BA'\n",
    "                                                    else 'centro_oeste' if x == 'MT' \n",
    "                                                    else 'centro_oeste' if x == 'MS' \n",
    "                                                    else 'centro_oeste' if x == 'GO'\n",
    "                                                    else 'sudeste' if x == 'SP' \n",
    "                                                    else 'sudeste' if x == 'RJ' \n",
    "                                                    else 'sudeste' if x == 'ES'\n",
    "                                                    else 'sudeste' if x == 'MG'\n",
    "                                                    else 'sul' if x == 'PR' \n",
    "                                                    else 'sul' if x == 'RS' \n",
    "                                                    else 'sul' if x == 'SC'\n",
    "                                                    else 'norte' if x =='AM'\n",
    "                                                    else 'norte' if x =='RR'\n",
    "                                                    else 'norte' if x =='AP'\n",
    "                                                    else 'norte' if x =='PA'\n",
    "                                                    else 'norte' if x =='TO'\n",
    "                                                    else 'norte' if x =='RO'\n",
    "                                                    else 'norte' )\n"
   ]
  },
  {
   "cell_type": "code",
   "execution_count": 65,
   "id": "cadfcb1e",
   "metadata": {
    "ExecuteTime": {
     "end_time": "2022-12-14T02:31:06.909147Z",
     "start_time": "2022-12-14T02:31:06.890308Z"
    }
   },
   "outputs": [
    {
     "data": {
      "text/plain": [
       "estado_empresa         object\n",
       "cnae_empresa           object\n",
       "capital_empresa       float64\n",
       "idade_empresa         float64\n",
       "socios_empresa        float64\n",
       "fornecedor_empresa     object\n",
       "descricao              object\n",
       "regiao                 object\n",
       "dtype: object"
      ]
     },
     "execution_count": 65,
     "metadata": {},
     "output_type": "execute_result"
    }
   ],
   "source": [
    "ibge.dtypes"
   ]
  },
  {
   "cell_type": "code",
   "execution_count": 66,
   "id": "c0d807ff",
   "metadata": {
    "ExecuteTime": {
     "end_time": "2022-12-14T02:33:15.866390Z",
     "start_time": "2022-12-14T02:33:15.851081Z"
    }
   },
   "outputs": [],
   "source": [
    "ibge['idade_empresa'] = ibge['idade_empresa'].astype('int64')\n",
    "ibge['socios_empresa'] = ibge['socios_empresa'].astype('int64')"
   ]
  },
  {
   "cell_type": "markdown",
   "id": "6bdba188",
   "metadata": {},
   "source": [
    "# 3.0 EDA (  Análise Exploratória)"
   ]
  },
  {
   "cell_type": "code",
   "execution_count": 68,
   "id": "c37a1d03",
   "metadata": {
    "ExecuteTime": {
     "end_time": "2022-12-14T02:33:38.610667Z",
     "start_time": "2022-12-14T02:33:38.354480Z"
    }
   },
   "outputs": [
    {
     "data": {
      "image/png": "[encoded data removed]",
      "text/plain": [
       "<Figure size 640x480 with 1 Axes>"
      ]
     },
     "metadata": {},
     "output_type": "display_data"
    }
   ],
   "source": [
    "# verificando Outliers\n",
    "sns.boxplot(data=ibge,x='fornecedor_empresa',y='capital_empresa');"
   ]
  },
  {
   "cell_type": "markdown",
   "id": "f1b987fb",
   "metadata": {},
   "source": [
    "## H1. Fornecedores com franquias no estado de São Paulo possui maior capital."
   ]
  },
  {
   "cell_type": "markdown",
   "id": "57575465",
   "metadata": {
    "ExecuteTime": {
     "end_time": "2022-12-12T13:56:38.162802Z",
     "start_time": "2022-12-12T13:56:38.129968Z"
    }
   },
   "source": [
    "FALSO. No estado de Amapá é aonde o capital é maior"
   ]
  },
  {
   "cell_type": "code",
   "execution_count": 69,
   "id": "2b25b7e3",
   "metadata": {
    "ExecuteTime": {
     "end_time": "2022-12-14T02:33:53.964317Z",
     "start_time": "2022-12-14T02:33:53.497870Z"
    }
   },
   "outputs": [
    {
     "data": {
      "text/html": [
       "<div>\n",
       "<style scoped>\n",
       "    .dataframe tbody tr th:only-of-type {\n",
       "        vertical-align: middle;\n",
       "    }\n",
       "\n",
       "    .dataframe tbody tr th {\n",
       "        vertical-align: top;\n",
       "    }\n",
       "\n",
       "    .dataframe thead th {\n",
       "        text-align: right;\n",
       "    }\n",
       "</style>\n",
       "<table border=\"1\" class=\"dataframe\">\n",
       "  <thead>\n",
       "    <tr style=\"text-align: right;\">\n",
       "      <th></th>\n",
       "      <th>estado_empresa</th>\n",
       "      <th>capital_empresa</th>\n",
       "    </tr>\n",
       "  </thead>\n",
       "  <tbody>\n",
       "    <tr>\n",
       "      <th>3</th>\n",
       "      <td>AP</td>\n",
       "      <td>16012515.0</td>\n",
       "    </tr>\n",
       "    <tr>\n",
       "      <th>19</th>\n",
       "      <td>RN</td>\n",
       "      <td>15733820.0</td>\n",
       "    </tr>\n",
       "    <tr>\n",
       "      <th>23</th>\n",
       "      <td>SC</td>\n",
       "      <td>15127409.0</td>\n",
       "    </tr>\n",
       "    <tr>\n",
       "      <th>5</th>\n",
       "      <td>CE</td>\n",
       "      <td>14536375.0</td>\n",
       "    </tr>\n",
       "    <tr>\n",
       "      <th>4</th>\n",
       "      <td>BA</td>\n",
       "      <td>14328950.0</td>\n",
       "    </tr>\n",
       "  </tbody>\n",
       "</table>\n",
       "</div>"
      ],
      "text/plain": [
       "   estado_empresa  capital_empresa\n",
       "3              AP       16012515.0\n",
       "19             RN       15733820.0\n",
       "23             SC       15127409.0\n",
       "5              CE       14536375.0\n",
       "4              BA       14328950.0"
      ]
     },
     "execution_count": 69,
     "metadata": {},
     "output_type": "execute_result"
    },
    {
     "data": {
      "image/png": "[encoded data removed]",
      "text/plain": [
       "<Figure size 1500x500 with 1 Axes>"
      ]
     },
     "metadata": {},
     "output_type": "display_data"
    }
   ],
   "source": [
    "plt.figure(figsize=(15,5))\n",
    "aux = ibge[['estado_empresa', 'capital_empresa']].groupby('estado_empresa').sum().reset_index()\n",
    "sns.barplot(x='estado_empresa',y='capital_empresa',data=aux);\n",
    "aux.sort_values('capital_empresa', ascending=False).head(5)"
   ]
  },
  {
   "cell_type": "markdown",
   "id": "10014ef3",
   "metadata": {},
   "source": [
    "Distribuição de capital por fornecedor"
   ]
  },
  {
   "cell_type": "markdown",
   "id": "ec078072",
   "metadata": {},
   "source": [
    "## H2. O fornecedor FOO456 possui maior numero de franquias.\n"
   ]
  },
  {
   "cell_type": "markdown",
   "id": "fba7d663",
   "metadata": {
    "ExecuteTime": {
     "end_time": "2022-12-12T13:39:06.146148Z",
     "start_time": "2022-12-12T13:39:06.124443Z"
    }
   },
   "source": [
    "VERDADEIRO. O Fornecedor MEL789 também possui a mesma quantidade de franquia."
   ]
  },
  {
   "cell_type": "code",
   "execution_count": 71,
   "id": "3e83211f",
   "metadata": {
    "ExecuteTime": {
     "end_time": "2022-12-14T02:35:21.458042Z",
     "start_time": "2022-12-14T02:35:21.423543Z"
    }
   },
   "outputs": [
    {
     "data": {
      "text/html": [
       "<div>\n",
       "<style scoped>\n",
       "    .dataframe tbody tr th:only-of-type {\n",
       "        vertical-align: middle;\n",
       "    }\n",
       "\n",
       "    .dataframe tbody tr th {\n",
       "        vertical-align: top;\n",
       "    }\n",
       "\n",
       "    .dataframe thead th {\n",
       "        text-align: right;\n",
       "    }\n",
       "</style>\n",
       "<table border=\"1\" class=\"dataframe\">\n",
       "  <thead>\n",
       "    <tr style=\"text-align: right;\">\n",
       "      <th></th>\n",
       "      <th>fornecedor_empresa</th>\n",
       "      <th>count</th>\n",
       "    </tr>\n",
       "  </thead>\n",
       "  <tbody>\n",
       "    <tr>\n",
       "      <th>1</th>\n",
       "      <td>FOO456</td>\n",
       "      <td>86</td>\n",
       "    </tr>\n",
       "    <tr>\n",
       "      <th>3</th>\n",
       "      <td>MEL789</td>\n",
       "      <td>84</td>\n",
       "    </tr>\n",
       "    <tr>\n",
       "      <th>4</th>\n",
       "      <td>XPTO123</td>\n",
       "      <td>82</td>\n",
       "    </tr>\n",
       "    <tr>\n",
       "      <th>2</th>\n",
       "      <td>JJF753</td>\n",
       "      <td>81</td>\n",
       "    </tr>\n",
       "    <tr>\n",
       "      <th>0</th>\n",
       "      <td>CABL951</td>\n",
       "      <td>68</td>\n",
       "    </tr>\n",
       "  </tbody>\n",
       "</table>\n",
       "</div>"
      ],
      "text/plain": [
       "  fornecedor_empresa  count\n",
       "1             FOO456     86\n",
       "3             MEL789     84\n",
       "4            XPTO123     82\n",
       "2             JJF753     81\n",
       "0            CABL951     68"
      ]
     },
     "execution_count": 71,
     "metadata": {},
     "output_type": "execute_result"
    }
   ],
   "source": [
    "ibge.sort_values('fornecedor_empresa')\n",
    "fornecedor_estado= ibge['estado_empresa'].drop_duplicates()\n",
    "fornecedor_estado = ibge[['fornecedor_empresa','estado_empresa']]\n",
    "a=fornecedor_estado[['fornecedor_empresa','estado_empresa']].groupby('fornecedor_empresa').value_counts().reset_index()\n",
    "a=a.rename(columns={0:'count'})\n",
    "b=a[['fornecedor_empresa','count']].groupby('fornecedor_empresa').sum().reset_index()\n",
    "b.sort_values('count',ascending=False)"
   ]
  },
  {
   "cell_type": "markdown",
   "id": "b524b106",
   "metadata": {},
   "source": [
    "## H3. O fornecedor MEL789 tem maior capital"
   ]
  },
  {
   "cell_type": "markdown",
   "id": "c417ab8f",
   "metadata": {},
   "source": [
    "FALSO. O fornecedor XPTO123 possui maior capital"
   ]
  },
  {
   "cell_type": "code",
   "execution_count": 72,
   "id": "91e2e55b",
   "metadata": {
    "ExecuteTime": {
     "end_time": "2022-12-14T02:36:13.851998Z",
     "start_time": "2022-12-14T02:36:13.687102Z"
    }
   },
   "outputs": [
    {
     "data": {
      "text/html": [
       "<div>\n",
       "<style scoped>\n",
       "    .dataframe tbody tr th:only-of-type {\n",
       "        vertical-align: middle;\n",
       "    }\n",
       "\n",
       "    .dataframe tbody tr th {\n",
       "        vertical-align: top;\n",
       "    }\n",
       "\n",
       "    .dataframe thead th {\n",
       "        text-align: right;\n",
       "    }\n",
       "</style>\n",
       "<table border=\"1\" class=\"dataframe\">\n",
       "  <thead>\n",
       "    <tr style=\"text-align: right;\">\n",
       "      <th></th>\n",
       "      <th>fornecedor_empresa</th>\n",
       "      <th>capital_empresa</th>\n",
       "    </tr>\n",
       "  </thead>\n",
       "  <tbody>\n",
       "    <tr>\n",
       "      <th>4</th>\n",
       "      <td>XPTO123</td>\n",
       "      <td>63784657.0</td>\n",
       "    </tr>\n",
       "    <tr>\n",
       "      <th>1</th>\n",
       "      <td>FOO456</td>\n",
       "      <td>63634078.0</td>\n",
       "    </tr>\n",
       "    <tr>\n",
       "      <th>3</th>\n",
       "      <td>MEL789</td>\n",
       "      <td>61698857.0</td>\n",
       "    </tr>\n",
       "    <tr>\n",
       "      <th>2</th>\n",
       "      <td>JJF753</td>\n",
       "      <td>60975753.0</td>\n",
       "    </tr>\n",
       "    <tr>\n",
       "      <th>0</th>\n",
       "      <td>CABL951</td>\n",
       "      <td>49327031.0</td>\n",
       "    </tr>\n",
       "  </tbody>\n",
       "</table>\n",
       "</div>"
      ],
      "text/plain": [
       "  fornecedor_empresa  capital_empresa\n",
       "4            XPTO123       63784657.0\n",
       "1             FOO456       63634078.0\n",
       "3             MEL789       61698857.0\n",
       "2             JJF753       60975753.0\n",
       "0            CABL951       49327031.0"
      ]
     },
     "execution_count": 72,
     "metadata": {},
     "output_type": "execute_result"
    },
    {
     "data": {
      "image/png": "[encoded data removed]",
      "text/plain": [
       "<Figure size 640x480 with 1 Axes>"
      ]
     },
     "metadata": {},
     "output_type": "display_data"
    }
   ],
   "source": [
    "a=ibge[['fornecedor_empresa','capital_empresa']].groupby('fornecedor_empresa').sum().reset_index()\n",
    "sns.barplot(x='fornecedor_empresa',y='capital_empresa',data=a);\n",
    "\n",
    "a.sort_values('capital_empresa',ascending=False)\n",
    "\n"
   ]
  },
  {
   "cell_type": "markdown",
   "id": "ec4fdefe",
   "metadata": {},
   "source": [
    "## H4. Empresas com maior tempo de mercado possui maior capital"
   ]
  },
  {
   "cell_type": "markdown",
   "id": "d95e1dd5",
   "metadata": {},
   "source": [
    "FALSO. O valor de Capital é variavel em relação ao tempo."
   ]
  },
  {
   "cell_type": "code",
   "execution_count": 73,
   "id": "e041de75",
   "metadata": {
    "ExecuteTime": {
     "end_time": "2022-12-14T02:37:24.322918Z",
     "start_time": "2022-12-14T02:37:23.970507Z"
    }
   },
   "outputs": [
    {
     "data": {
      "image/png": "[encoded data removed]",
      "text/plain": [
       "<Figure size 1500x500 with 1 Axes>"
      ]
     },
     "metadata": {},
     "output_type": "display_data"
    }
   ],
   "source": [
    "plt.figure(figsize=(15,5))\n",
    "aux = ibge[['idade_empresa', 'capital_empresa']].groupby('idade_empresa').sum().reset_index()\n",
    "sns.barplot(x='idade_empresa',y='capital_empresa',data=aux);\n"
   ]
  },
  {
   "cell_type": "markdown",
   "id": "2dfc6e27",
   "metadata": {},
   "source": [
    "## H5. Qual o fornecedor com maior tempo de mercado e maior capital"
   ]
  },
  {
   "cell_type": "markdown",
   "id": "aefa9e22",
   "metadata": {
    "ExecuteTime": {
     "end_time": "2022-12-14T02:29:44.779558Z",
     "start_time": "2022-12-14T02:29:44.760119Z"
    }
   },
   "source": [
    "O fornecedor com maior tempo de mercado é MEL789 com capital de 61.698.857.00.\n",
    "Porém, o fornecedor XPTO123 tem o maior capital 63.784.657.00 e está na segunda posição em tempo de mercado."
   ]
  },
  {
   "cell_type": "code",
   "execution_count": 74,
   "id": "5381ba60",
   "metadata": {
    "ExecuteTime": {
     "end_time": "2022-12-14T02:37:34.213241Z",
     "start_time": "2022-12-14T02:37:34.031458Z"
    }
   },
   "outputs": [
    {
     "data": {
      "text/html": [
       "<div>\n",
       "<style scoped>\n",
       "    .dataframe tbody tr th:only-of-type {\n",
       "        vertical-align: middle;\n",
       "    }\n",
       "\n",
       "    .dataframe tbody tr th {\n",
       "        vertical-align: top;\n",
       "    }\n",
       "\n",
       "    .dataframe thead th {\n",
       "        text-align: right;\n",
       "    }\n",
       "</style>\n",
       "<table border=\"1\" class=\"dataframe\">\n",
       "  <thead>\n",
       "    <tr style=\"text-align: right;\">\n",
       "      <th></th>\n",
       "      <th>idade_empresa</th>\n",
       "      <th>fornecedor_empresa</th>\n",
       "      <th>capital_empresa</th>\n",
       "    </tr>\n",
       "  </thead>\n",
       "  <tbody>\n",
       "    <tr>\n",
       "      <th>4</th>\n",
       "      <td>1006</td>\n",
       "      <td>XPTO123</td>\n",
       "      <td>63784657.0</td>\n",
       "    </tr>\n",
       "    <tr>\n",
       "      <th>1</th>\n",
       "      <td>1003</td>\n",
       "      <td>FOO456</td>\n",
       "      <td>63634078.0</td>\n",
       "    </tr>\n",
       "    <tr>\n",
       "      <th>3</th>\n",
       "      <td>1032</td>\n",
       "      <td>MEL789</td>\n",
       "      <td>61698857.0</td>\n",
       "    </tr>\n",
       "    <tr>\n",
       "      <th>2</th>\n",
       "      <td>991</td>\n",
       "      <td>JJF753</td>\n",
       "      <td>60975753.0</td>\n",
       "    </tr>\n",
       "    <tr>\n",
       "      <th>0</th>\n",
       "      <td>816</td>\n",
       "      <td>CABL951</td>\n",
       "      <td>49327031.0</td>\n",
       "    </tr>\n",
       "  </tbody>\n",
       "</table>\n",
       "</div>"
      ],
      "text/plain": [
       "   idade_empresa fornecedor_empresa  capital_empresa\n",
       "4           1006            XPTO123       63784657.0\n",
       "1           1003             FOO456       63634078.0\n",
       "3           1032             MEL789       61698857.0\n",
       "2            991             JJF753       60975753.0\n",
       "0            816            CABL951       49327031.0"
      ]
     },
     "execution_count": 74,
     "metadata": {},
     "output_type": "execute_result"
    },
    {
     "data": {
      "image/png": "[encoded data removed]",
      "text/plain": [
       "<Figure size 640x480 with 1 Axes>"
      ]
     },
     "metadata": {},
     "output_type": "display_data"
    }
   ],
   "source": [
    "aux=ibge[['idade_empresa', 'fornecedor_empresa','capital_empresa']].groupby('fornecedor_empresa').sum().reset_index()\n",
    "plt.title('Tempo de mercado e maior capital')\n",
    "sns.barplot(x='fornecedor_empresa',y='capital_empresa',data=aux);\n",
    "aux[['idade_empresa', 'fornecedor_empresa','capital_empresa']].sort_values('capital_empresa',ascending=False)\n",
    "#plt.savefig('plot_tempo_capital.png', dpi = 100)\n",
    "\n"
   ]
  },
  {
   "cell_type": "markdown",
   "id": "41fc4d0a",
   "metadata": {},
   "source": [
    "## H6. Empresas com maior numero de socios possui maior capital"
   ]
  },
  {
   "cell_type": "markdown",
   "id": "20d50650",
   "metadata": {},
   "source": [
    "FALSO. Franquias com apenas 1 ou 2 sócios possuem maior capital"
   ]
  },
  {
   "cell_type": "code",
   "execution_count": 75,
   "id": "0f633ffd",
   "metadata": {
    "ExecuteTime": {
     "end_time": "2022-12-14T02:38:12.355751Z",
     "start_time": "2022-12-14T02:38:12.111983Z"
    }
   },
   "outputs": [
    {
     "data": {
      "text/html": [
       "<div>\n",
       "<style scoped>\n",
       "    .dataframe tbody tr th:only-of-type {\n",
       "        vertical-align: middle;\n",
       "    }\n",
       "\n",
       "    .dataframe tbody tr th {\n",
       "        vertical-align: top;\n",
       "    }\n",
       "\n",
       "    .dataframe thead th {\n",
       "        text-align: right;\n",
       "    }\n",
       "</style>\n",
       "<table border=\"1\" class=\"dataframe\">\n",
       "  <thead>\n",
       "    <tr style=\"text-align: right;\">\n",
       "      <th></th>\n",
       "      <th>socios_empresa</th>\n",
       "      <th>capital_empresa</th>\n",
       "    </tr>\n",
       "  </thead>\n",
       "  <tbody>\n",
       "    <tr>\n",
       "      <th>0</th>\n",
       "      <td>1</td>\n",
       "      <td>78168452.0</td>\n",
       "    </tr>\n",
       "    <tr>\n",
       "      <th>1</th>\n",
       "      <td>2</td>\n",
       "      <td>80493673.0</td>\n",
       "    </tr>\n",
       "    <tr>\n",
       "      <th>2</th>\n",
       "      <td>3</td>\n",
       "      <td>68125519.0</td>\n",
       "    </tr>\n",
       "    <tr>\n",
       "      <th>3</th>\n",
       "      <td>4</td>\n",
       "      <td>72632732.0</td>\n",
       "    </tr>\n",
       "  </tbody>\n",
       "</table>\n",
       "</div>"
      ],
      "text/plain": [
       "   socios_empresa  capital_empresa\n",
       "0               1       78168452.0\n",
       "1               2       80493673.0\n",
       "2               3       68125519.0\n",
       "3               4       72632732.0"
      ]
     },
     "execution_count": 75,
     "metadata": {},
     "output_type": "execute_result"
    },
    {
     "data": {
      "image/png": "[encoded data removed]",
      "text/plain": [
       "<Figure size 1500x500 with 1 Axes>"
      ]
     },
     "metadata": {},
     "output_type": "display_data"
    }
   ],
   "source": [
    "plt.figure(figsize=(15,5))\n",
    "aux = ibge[['socios_empresa', 'capital_empresa']].groupby('socios_empresa').sum().reset_index()\n",
    "sns.barplot(x='socios_empresa',y='capital_empresa',data=aux);\n",
    "aux"
   ]
  },
  {
   "cell_type": "markdown",
   "id": "79d3e021",
   "metadata": {
    "ExecuteTime": {
     "end_time": "2022-12-12T13:58:24.868010Z",
     "start_time": "2022-12-12T13:58:24.857461Z"
    }
   },
   "source": [
    "## H7. Empresas com maior numero de franquias possui maior capital"
   ]
  },
  {
   "cell_type": "markdown",
   "id": "51588a2d",
   "metadata": {
    "ExecuteTime": {
     "end_time": "2022-12-12T14:14:46.873297Z",
     "start_time": "2022-12-12T14:14:46.774069Z"
    }
   },
   "source": [
    "FALSO.Nos dados disponiveis, a empresa com maior numero de franquias não possui o maior capital,\n",
    "porém a tendencia é de que quanto maior o numero de franquia maior o capital."
   ]
  },
  {
   "cell_type": "code",
   "execution_count": 78,
   "id": "093810e2",
   "metadata": {
    "ExecuteTime": {
     "end_time": "2022-12-14T02:40:41.232246Z",
     "start_time": "2022-12-14T02:40:40.977998Z"
    }
   },
   "outputs": [
    {
     "data": {
      "image/png": "[encoded data removed]",
      "text/plain": [
       "<Figure size 1500x500 with 1 Axes>"
      ]
     },
     "metadata": {},
     "output_type": "display_data"
    }
   ],
   "source": [
    "a=ibge[['fornecedor_empresa','estado_empresa','capital_empresa']].groupby(['fornecedor_empresa']).value_counts().reset_index()\n",
    "a=a.rename(columns={0:'count'})\n",
    "b=a[['fornecedor_empresa','count','capital_empresa']].groupby('fornecedor_empresa').sum().reset_index()\n",
    "\n",
    "plt.figure(figsize=(15,5))\n",
    "sns.barplot(x='count',y='capital_empresa',data=b);\n",
    "b.sort_values('capital_empresa',ascending=False)\n",
    "plt.savefig('plot_franquia_capital.png', dpi = 100)\n"
   ]
  },
  {
   "cell_type": "markdown",
   "id": "928d0ac7",
   "metadata": {
    "ExecuteTime": {
     "end_time": "2022-12-13T20:30:23.557242Z",
     "start_time": "2022-12-13T20:30:23.519046Z"
    }
   },
   "source": [
    "## H8. A região nordeste possui mais fornecedores"
   ]
  },
  {
   "cell_type": "markdown",
   "id": "5ce2fe93",
   "metadata": {},
   "source": [
    "VERDADEIRO. Possui 146 ao total."
   ]
  },
  {
   "cell_type": "code",
   "execution_count": 79,
   "id": "52dcbf38",
   "metadata": {
    "ExecuteTime": {
     "end_time": "2022-12-14T02:40:44.932240Z",
     "start_time": "2022-12-14T02:40:44.768213Z"
    }
   },
   "outputs": [
    {
     "name": "stderr",
     "output_type": "stream",
     "text": [
      "C:\\Users\\wesle\\AppData\\Local\\Temp\\ipykernel_2732\\2354232060.py:3: FutureWarning: The default value of numeric_only in DataFrameGroupBy.sum is deprecated. In a future version, numeric_only will default to False. Either specify numeric_only or select only columns which should be valid for the function.\n",
      "  b=a[['fornecedor_empresa','count','regiao']].groupby('regiao').sum().reset_index()\n"
     ]
    },
    {
     "data": {
      "text/html": [
       "<div>\n",
       "<style scoped>\n",
       "    .dataframe tbody tr th:only-of-type {\n",
       "        vertical-align: middle;\n",
       "    }\n",
       "\n",
       "    .dataframe tbody tr th {\n",
       "        vertical-align: top;\n",
       "    }\n",
       "\n",
       "    .dataframe thead th {\n",
       "        text-align: right;\n",
       "    }\n",
       "</style>\n",
       "<table border=\"1\" class=\"dataframe\">\n",
       "  <thead>\n",
       "    <tr style=\"text-align: right;\">\n",
       "      <th></th>\n",
       "      <th>regiao</th>\n",
       "      <th>count</th>\n",
       "    </tr>\n",
       "  </thead>\n",
       "  <tbody>\n",
       "    <tr>\n",
       "      <th>1</th>\n",
       "      <td>nordeste</td>\n",
       "      <td>146</td>\n",
       "    </tr>\n",
       "    <tr>\n",
       "      <th>2</th>\n",
       "      <td>norte</td>\n",
       "      <td>118</td>\n",
       "    </tr>\n",
       "    <tr>\n",
       "      <th>3</th>\n",
       "      <td>sudeste</td>\n",
       "      <td>52</td>\n",
       "    </tr>\n",
       "    <tr>\n",
       "      <th>4</th>\n",
       "      <td>sul</td>\n",
       "      <td>44</td>\n",
       "    </tr>\n",
       "    <tr>\n",
       "      <th>0</th>\n",
       "      <td>centro_oeste</td>\n",
       "      <td>41</td>\n",
       "    </tr>\n",
       "  </tbody>\n",
       "</table>\n",
       "</div>"
      ],
      "text/plain": [
       "         regiao  count\n",
       "1      nordeste    146\n",
       "2         norte    118\n",
       "3       sudeste     52\n",
       "4           sul     44\n",
       "0  centro_oeste     41"
      ]
     },
     "execution_count": 79,
     "metadata": {},
     "output_type": "execute_result"
    },
    {
     "data": {
      "image/png": "[encoded data removed]",
      "text/plain": [
       "<Figure size 640x480 with 1 Axes>"
      ]
     },
     "metadata": {},
     "output_type": "display_data"
    }
   ],
   "source": [
    "a=ibge[['fornecedor_empresa','regiao']].groupby(['fornecedor_empresa']).value_counts().reset_index()\n",
    "a=a.rename(columns={0:'count'})\n",
    "b=a[['fornecedor_empresa','count','regiao']].groupby('regiao').sum().reset_index()\n",
    "\n",
    "sns.barplot(x='count',y='regiao',data=b);\n",
    "b.sort_values('count',ascending=False)\n"
   ]
  },
  {
   "cell_type": "markdown",
   "id": "e14e99d2",
   "metadata": {},
   "source": [
    "## H9. A região norte é onde possui maior capital"
   ]
  },
  {
   "cell_type": "markdown",
   "id": "68e688ff",
   "metadata": {
    "ExecuteTime": {
     "end_time": "2022-12-13T21:07:35.354427Z",
     "start_time": "2022-12-13T21:07:35.330426Z"
    }
   },
   "source": [
    "FALSO. O Nordeste é a regiao com maior capital"
   ]
  },
  {
   "cell_type": "code",
   "execution_count": 80,
   "id": "924da5e6",
   "metadata": {
    "ExecuteTime": {
     "end_time": "2022-12-14T02:40:48.152070Z",
     "start_time": "2022-12-14T02:40:47.940974Z"
    }
   },
   "outputs": [
    {
     "data": {
      "text/html": [
       "<div>\n",
       "<style scoped>\n",
       "    .dataframe tbody tr th:only-of-type {\n",
       "        vertical-align: middle;\n",
       "    }\n",
       "\n",
       "    .dataframe tbody tr th {\n",
       "        vertical-align: top;\n",
       "    }\n",
       "\n",
       "    .dataframe thead th {\n",
       "        text-align: right;\n",
       "    }\n",
       "</style>\n",
       "<table border=\"1\" class=\"dataframe\">\n",
       "  <thead>\n",
       "    <tr style=\"text-align: right;\">\n",
       "      <th></th>\n",
       "      <th>regiao</th>\n",
       "      <th>capital_empresa</th>\n",
       "    </tr>\n",
       "  </thead>\n",
       "  <tbody>\n",
       "    <tr>\n",
       "      <th>1</th>\n",
       "      <td>nordeste</td>\n",
       "      <td>109655387.0</td>\n",
       "    </tr>\n",
       "    <tr>\n",
       "      <th>2</th>\n",
       "      <td>norte</td>\n",
       "      <td>87682990.0</td>\n",
       "    </tr>\n",
       "    <tr>\n",
       "      <th>3</th>\n",
       "      <td>sudeste</td>\n",
       "      <td>39480936.0</td>\n",
       "    </tr>\n",
       "    <tr>\n",
       "      <th>4</th>\n",
       "      <td>sul</td>\n",
       "      <td>32489987.0</td>\n",
       "    </tr>\n",
       "    <tr>\n",
       "      <th>0</th>\n",
       "      <td>centro_oeste</td>\n",
       "      <td>30111076.0</td>\n",
       "    </tr>\n",
       "  </tbody>\n",
       "</table>\n",
       "</div>"
      ],
      "text/plain": [
       "         regiao  capital_empresa\n",
       "1      nordeste      109655387.0\n",
       "2         norte       87682990.0\n",
       "3       sudeste       39480936.0\n",
       "4           sul       32489987.0\n",
       "0  centro_oeste       30111076.0"
      ]
     },
     "execution_count": 80,
     "metadata": {},
     "output_type": "execute_result"
    },
    {
     "data": {
      "image/png": "[encoded data removed]",
      "text/plain": [
       "<Figure size 640x480 with 1 Axes>"
      ]
     },
     "metadata": {},
     "output_type": "display_data"
    }
   ],
   "source": [
    "b=ibge[['capital_empresa','regiao']].groupby('regiao').sum().reset_index()\n",
    "\n",
    "sns.barplot(x='regiao',y='capital_empresa',data=b);\n",
    "b.sort_values('capital_empresa',ascending=False)"
   ]
  },
  {
   "cell_type": "markdown",
   "id": "0f370a0e",
   "metadata": {},
   "source": [
    "## H10. A empresa JJF753 tem o maior capital no Sul"
   ]
  },
  {
   "cell_type": "markdown",
   "id": "79982550",
   "metadata": {},
   "source": [
    "VERDADEIRO. A empresa tem maior capital no sul sendo 6.738.941,00"
   ]
  },
  {
   "cell_type": "code",
   "execution_count": 81,
   "id": "e6076298",
   "metadata": {
    "ExecuteTime": {
     "end_time": "2022-12-14T02:41:13.300235Z",
     "start_time": "2022-12-14T02:41:12.995975Z"
    }
   },
   "outputs": [
    {
     "data": {
      "text/html": [
       "<div>\n",
       "<style scoped>\n",
       "    .dataframe tbody tr th:only-of-type {\n",
       "        vertical-align: middle;\n",
       "    }\n",
       "\n",
       "    .dataframe tbody tr th {\n",
       "        vertical-align: top;\n",
       "    }\n",
       "\n",
       "    .dataframe thead th {\n",
       "        text-align: right;\n",
       "    }\n",
       "</style>\n",
       "<table border=\"1\" class=\"dataframe\">\n",
       "  <thead>\n",
       "    <tr style=\"text-align: right;\">\n",
       "      <th></th>\n",
       "      <th>fornecedor_empresa</th>\n",
       "      <th>regiao</th>\n",
       "      <th>capital_empresa</th>\n",
       "    </tr>\n",
       "  </thead>\n",
       "  <tbody>\n",
       "    <tr>\n",
       "      <th>16</th>\n",
       "      <td>MEL789</td>\n",
       "      <td>nordeste</td>\n",
       "      <td>27023852.0</td>\n",
       "    </tr>\n",
       "    <tr>\n",
       "      <th>11</th>\n",
       "      <td>JJF753</td>\n",
       "      <td>nordeste</td>\n",
       "      <td>26579407.0</td>\n",
       "    </tr>\n",
       "    <tr>\n",
       "      <th>21</th>\n",
       "      <td>XPTO123</td>\n",
       "      <td>nordeste</td>\n",
       "      <td>22179949.0</td>\n",
       "    </tr>\n",
       "    <tr>\n",
       "      <th>7</th>\n",
       "      <td>FOO456</td>\n",
       "      <td>norte</td>\n",
       "      <td>19319628.0</td>\n",
       "    </tr>\n",
       "    <tr>\n",
       "      <th>6</th>\n",
       "      <td>FOO456</td>\n",
       "      <td>nordeste</td>\n",
       "      <td>19092690.0</td>\n",
       "    </tr>\n",
       "    <tr>\n",
       "      <th>17</th>\n",
       "      <td>MEL789</td>\n",
       "      <td>norte</td>\n",
       "      <td>18562622.0</td>\n",
       "    </tr>\n",
       "    <tr>\n",
       "      <th>22</th>\n",
       "      <td>XPTO123</td>\n",
       "      <td>norte</td>\n",
       "      <td>18475495.0</td>\n",
       "    </tr>\n",
       "    <tr>\n",
       "      <th>12</th>\n",
       "      <td>JJF753</td>\n",
       "      <td>norte</td>\n",
       "      <td>15945947.0</td>\n",
       "    </tr>\n",
       "    <tr>\n",
       "      <th>2</th>\n",
       "      <td>CABL951</td>\n",
       "      <td>norte</td>\n",
       "      <td>15379298.0</td>\n",
       "    </tr>\n",
       "    <tr>\n",
       "      <th>1</th>\n",
       "      <td>CABL951</td>\n",
       "      <td>nordeste</td>\n",
       "      <td>14779489.0</td>\n",
       "    </tr>\n",
       "    <tr>\n",
       "      <th>8</th>\n",
       "      <td>FOO456</td>\n",
       "      <td>sudeste</td>\n",
       "      <td>12286474.0</td>\n",
       "    </tr>\n",
       "    <tr>\n",
       "      <th>20</th>\n",
       "      <td>XPTO123</td>\n",
       "      <td>centro_oeste</td>\n",
       "      <td>11035534.0</td>\n",
       "    </tr>\n",
       "    <tr>\n",
       "      <th>14</th>\n",
       "      <td>JJF753</td>\n",
       "      <td>sul</td>\n",
       "      <td>9040466.0</td>\n",
       "    </tr>\n",
       "    <tr>\n",
       "      <th>3</th>\n",
       "      <td>CABL951</td>\n",
       "      <td>sudeste</td>\n",
       "      <td>8477873.0</td>\n",
       "    </tr>\n",
       "    <tr>\n",
       "      <th>23</th>\n",
       "      <td>XPTO123</td>\n",
       "      <td>sudeste</td>\n",
       "      <td>7551452.0</td>\n",
       "    </tr>\n",
       "    <tr>\n",
       "      <th>9</th>\n",
       "      <td>FOO456</td>\n",
       "      <td>sul</td>\n",
       "      <td>7473613.0</td>\n",
       "    </tr>\n",
       "    <tr>\n",
       "      <th>13</th>\n",
       "      <td>JJF753</td>\n",
       "      <td>sudeste</td>\n",
       "      <td>6991900.0</td>\n",
       "    </tr>\n",
       "    <tr>\n",
       "      <th>15</th>\n",
       "      <td>MEL789</td>\n",
       "      <td>centro_oeste</td>\n",
       "      <td>6276511.0</td>\n",
       "    </tr>\n",
       "    <tr>\n",
       "      <th>4</th>\n",
       "      <td>CABL951</td>\n",
       "      <td>sul</td>\n",
       "      <td>5771046.0</td>\n",
       "    </tr>\n",
       "    <tr>\n",
       "      <th>19</th>\n",
       "      <td>MEL789</td>\n",
       "      <td>sul</td>\n",
       "      <td>5662635.0</td>\n",
       "    </tr>\n",
       "    <tr>\n",
       "      <th>5</th>\n",
       "      <td>FOO456</td>\n",
       "      <td>centro_oeste</td>\n",
       "      <td>5461673.0</td>\n",
       "    </tr>\n",
       "    <tr>\n",
       "      <th>0</th>\n",
       "      <td>CABL951</td>\n",
       "      <td>centro_oeste</td>\n",
       "      <td>4919325.0</td>\n",
       "    </tr>\n",
       "    <tr>\n",
       "      <th>24</th>\n",
       "      <td>XPTO123</td>\n",
       "      <td>sul</td>\n",
       "      <td>4542227.0</td>\n",
       "    </tr>\n",
       "    <tr>\n",
       "      <th>18</th>\n",
       "      <td>MEL789</td>\n",
       "      <td>sudeste</td>\n",
       "      <td>4173237.0</td>\n",
       "    </tr>\n",
       "    <tr>\n",
       "      <th>10</th>\n",
       "      <td>JJF753</td>\n",
       "      <td>centro_oeste</td>\n",
       "      <td>2418033.0</td>\n",
       "    </tr>\n",
       "  </tbody>\n",
       "</table>\n",
       "</div>"
      ],
      "text/plain": [
       "   fornecedor_empresa        regiao  capital_empresa\n",
       "16             MEL789      nordeste       27023852.0\n",
       "11             JJF753      nordeste       26579407.0\n",
       "21            XPTO123      nordeste       22179949.0\n",
       "7              FOO456         norte       19319628.0\n",
       "6              FOO456      nordeste       19092690.0\n",
       "17             MEL789         norte       18562622.0\n",
       "22            XPTO123         norte       18475495.0\n",
       "12             JJF753         norte       15945947.0\n",
       "2             CABL951         norte       15379298.0\n",
       "1             CABL951      nordeste       14779489.0\n",
       "8              FOO456       sudeste       12286474.0\n",
       "20            XPTO123  centro_oeste       11035534.0\n",
       "14             JJF753           sul        9040466.0\n",
       "3             CABL951       sudeste        8477873.0\n",
       "23            XPTO123       sudeste        7551452.0\n",
       "9              FOO456           sul        7473613.0\n",
       "13             JJF753       sudeste        6991900.0\n",
       "15             MEL789  centro_oeste        6276511.0\n",
       "4             CABL951           sul        5771046.0\n",
       "19             MEL789           sul        5662635.0\n",
       "5              FOO456  centro_oeste        5461673.0\n",
       "0             CABL951  centro_oeste        4919325.0\n",
       "24            XPTO123           sul        4542227.0\n",
       "18             MEL789       sudeste        4173237.0\n",
       "10             JJF753  centro_oeste        2418033.0"
      ]
     },
     "execution_count": 81,
     "metadata": {},
     "output_type": "execute_result"
    },
    {
     "data": {
      "image/png": "[encoded data removed]",
      "text/plain": [
       "<Figure size 640x480 with 1 Axes>"
      ]
     },
     "metadata": {},
     "output_type": "display_data"
    }
   ],
   "source": [
    "b=ibge[['capital_empresa','regiao','fornecedor_empresa']].groupby(['fornecedor_empresa','regiao']).sum().reset_index()\n",
    "sns.barplot(data=b, x=\"fornecedor_empresa\", y=\"capital_empresa\", hue=\"regiao\")\n",
    "plt.legend(bbox_to_anchor=(1.30,1),loc='upper right')\n",
    "\n",
    "b.sort_values('capital_empresa',ascending=False)\n",
    "#plt.savefig('plot_regiao_capital.png', dpi = 100)\n"
   ]
  },
  {
   "cell_type": "code",
   "execution_count": null,
   "id": "86f96aaa",
   "metadata": {},
   "outputs": [],
   "source": []
  },
  {
   "cell_type": "code",
   "execution_count": null,
   "id": "ef24aef1",
   "metadata": {},
   "outputs": [],
   "source": []
  }
 ],
 "metadata": {
  "hide_input": false,
  "kernelspec": {
   "display_name": "Python 3 (ipykernel)",
   "language": "python",
   "name": "python3"
  },
  "language_info": {
   "codemirror_mode": {
    "name": "ipython",
    "version": 3
   },
   "file_extension": ".py",
   "mimetype": "text/x-python",
   "name": "python",
   "nbconvert_exporter": "python",
   "pygments_lexer": "ipython3",
   "version": "3.9.15"
  }
 },
 "nbformat": 4,
 "nbformat_minor": 5
}
